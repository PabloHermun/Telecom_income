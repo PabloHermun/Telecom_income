{
 "cells": [
  {
   "cell_type": "markdown",
   "metadata": {
    "id": "3rYiDeEH0q0f"
   },
   "source": [
    "# ¿Cuál es la mejor tarifa?\n",
    "\n",
    "Trabajas como analista para el operador de telecomunicaciones Megaline. La empresa ofrece a sus clientes dos tarifas de prepago, Surf y Ultimate. El departamento comercial quiere saber cuál de las tarifas genera más ingresos para poder ajustar el presupuesto de publicidad.\n"
   ]
  },
  {
   "cell_type": "markdown",
   "metadata": {
    "id": "VNddPNRQ0q0w"
   },
   "source": [
    "\n",
    "## Introducción\n",
    "\n",
    "El presente proyecto tendrá como objetivo analizar el comportamiento de los clientes de Megaline y evaluar la rentabilidad de sus dos planes principales: **Surf** y **Ultimate**. Para ello se integrarán y procesarán los datos de usuarios, llamadas, mensajes, navegación en internet y condiciones de los planes en un único Data Frame (`master_df`).  \n",
    "\n",
    "El análisis tomará en cuenta las reglas de facturación y redondeo establecidas por la compañía, y se apoyará en estadísticas descriptivas y visualizaciones. El enfoque se dirigirá a tres categorías de uso —llamadas, SMS y datos móviles— con el propósito de identificar patrones de consumo y diferencias en los ingresos generados por plan y en particular analizaremos si hay alguna diferencia de comportamiento en la región de NY-NJ. Estas diferencias las confirmaremos con pruebas de hipótesis estadísticas.\n",
    "\n",
    "En última instancia, el estudio buscará proporcionar información sólida que permita a la empresa orientar sus decisiones estratégicas, en particular la asignación de recursos de publicidad.\n",
    "\n",
    "### Descripción de las tarifas\n",
    "\n",
    "**Nota:** Megaline redondea los segundos a minutos y los megabytes a gigabytes.  \n",
    "Para las llamadas, cada llamada individual se redondea: incluso si la llamada duró solo un segundo, se contará como un minuto.  \n",
    "\n",
    "Para el tráfico web, las sesiones web individuales no se redondean. En vez de esto, el total del mes se redondea hacia arriba.  \n",
    "Por ejemplo, si alguien usa 1025 MB en un mes, se le cobrarán 2 GB.\n",
    "\n",
    "---\n",
    "\n",
    "### Diccionario de datos\n",
    "\n",
    "Hay **cinco tablas** diferentes:\n",
    "\n",
    "#### `users` — datos sobre los usuarios\n",
    "- `user_id`: identificador único del usuario  \n",
    "- `first_name`: nombre del usuario  \n",
    "- `last_name`: apellido del usuario  \n",
    "- `age`: edad (años)  \n",
    "- `reg_date`: fecha de suscripción *(dd, mm, aa)*  \n",
    "- `churn_date`: fecha en que el usuario dejó de usar el servicio *(NaN si sigue activo)*  \n",
    "- `city`: ciudad de residencia  \n",
    "- `plan`: nombre de la tarifa  \n",
    "\n",
    "#### `calls` — datos sobre las llamadas\n",
    "- `id`: identificador único de la llamada  \n",
    "- `call_date`: fecha de la llamada  \n",
    "- `duration`: duración (minutos)  \n",
    "- `user_id`: identificador del usuario que realiza la llamada  \n",
    "\n",
    "#### `messages` — datos sobre los SMS\n",
    "- `id`: identificador único del SMS  \n",
    "- `message_date`: fecha del SMS  \n",
    "- `user_id`: identificador del usuario que envía el SMS  \n",
    "\n",
    "#### `internet` — datos sobre las sesiones web\n",
    "- `id`: identificador único de la sesión  \n",
    "- `mb_used`: datos usados en la sesión (MB)  \n",
    "- `session_date`: fecha de la sesión  \n",
    "- `user_id`: identificador del usuario  \n",
    "\n",
    "#### `plans` — datos sobre las tarifas\n",
    "- `plan_name`: nombre de la tarifa  \n",
    "- `usd_monthly_fee`: pago mensual (USD)  \n",
    "- `minutes_included`: minutos incluidos al mes  \n",
    "- `messages_included`: SMS incluidos al mes  \n",
    "- `mb_per_month_included`: datos incluidos (MB)  \n",
    "- `usd_per_minute`: costo por minuto extra  \n",
    "- `usd_per_message`: costo por SMS extra  \n",
    "- `usd_per_gb`: costo por GB extra *(1 GB = 1024 MB)*\n",
    "\n",
    "Queremos que nuestro Data Frame final contenga el **consumo mensual total** de cada usuario. Para ello limpiaremos y transformaremos los datos de cada tabla apropiadamente, de manera que finalmente podamos extraer y sintetizar la información necesaria.\n",
    "Para hacer más sencillo este proceso en cada tabla que tenga registros de consumo, i.e. `calls`, `messages` e `ìnternet`, agregaremos **una columna que tenga únicamente el mes** correspondiente a cada registro.\n"
   ]
  },
  {
   "cell_type": "markdown",
   "metadata": {
    "id": "MQi4IPy70q0y"
   },
   "source": [
    "## Inicialización"
   ]
  },
  {
   "cell_type": "code",
   "execution_count": 1,
   "metadata": {
    "id": "MtYIuBxu0q0z"
   },
   "outputs": [],
   "source": [
    "# Cargar todas las librerías\n",
    "import numpy as np\n",
    "import pandas as pd\n"
   ]
  },
  {
   "cell_type": "markdown",
   "metadata": {
    "id": "4ysWWC5i0q00"
   },
   "source": [
    "## Cargar datos"
   ]
  },
  {
   "cell_type": "code",
   "execution_count": 2,
   "metadata": {
    "id": "CCqPW7rS0q01"
   },
   "outputs": [],
   "source": [
    "# Carga los archivos de datos en diferentes DataFrames\n",
    "users = pd.read_csv('/datasets/megaline_users.csv')\n",
    "calls = pd.read_csv('/datasets/megaline_calls.csv')\n",
    "messages = pd.read_csv('/datasets/megaline_messages.csv')\n",
    "internet = pd.read_csv('/datasets/megaline_internet.csv')\n",
    "plans = pd.read_csv('/datasets/megaline_plans.csv')"
   ]
  },
  {
   "cell_type": "markdown",
   "metadata": {
    "id": "69qqoJ3r0q01"
   },
   "source": [
    "## Preparar los datos"
   ]
  },
  {
   "cell_type": "markdown",
   "metadata": {
    "id": "vUuZw80S0q01"
   },
   "source": [
    "Los datos para este proyecto se dividen en varias tablas. Exploraremos cada una para tener una comprensión inicial de los datos y hacer las correcciones requeridas en cada tabla."
   ]
  },
  {
   "cell_type": "markdown",
   "metadata": {
    "id": "ohBhimvH0q01"
   },
   "source": [
    "## Tarifas"
   ]
  },
  {
   "cell_type": "code",
   "execution_count": 3,
   "metadata": {
    "id": "GptqP3Q40q02"
   },
   "outputs": [
    {
     "name": "stdout",
     "output_type": "stream",
     "text": [
      "<class 'pandas.core.frame.DataFrame'>\n",
      "RangeIndex: 2 entries, 0 to 1\n",
      "Data columns (total 8 columns):\n",
      " #   Column                 Non-Null Count  Dtype  \n",
      "---  ------                 --------------  -----  \n",
      " 0   messages_included      2 non-null      int64  \n",
      " 1   mb_per_month_included  2 non-null      int64  \n",
      " 2   minutes_included       2 non-null      int64  \n",
      " 3   usd_monthly_pay        2 non-null      int64  \n",
      " 4   usd_per_gb             2 non-null      int64  \n",
      " 5   usd_per_message        2 non-null      float64\n",
      " 6   usd_per_minute         2 non-null      float64\n",
      " 7   plan_name              2 non-null      object \n",
      "dtypes: float64(2), int64(5), object(1)\n",
      "memory usage: 256.0+ bytes\n"
     ]
    }
   ],
   "source": [
    "# Imprime la información general/resumida sobre el DataFrame de las tarifas\n",
    "plans.info()"
   ]
  },
  {
   "cell_type": "code",
   "execution_count": 4,
   "metadata": {
    "id": "64xzjwL70q02"
   },
   "outputs": [
    {
     "data": {
      "text/html": [
       "<div>\n",
       "<style scoped>\n",
       "    .dataframe tbody tr th:only-of-type {\n",
       "        vertical-align: middle;\n",
       "    }\n",
       "\n",
       "    .dataframe tbody tr th {\n",
       "        vertical-align: top;\n",
       "    }\n",
       "\n",
       "    .dataframe thead th {\n",
       "        text-align: right;\n",
       "    }\n",
       "</style>\n",
       "<table border=\"1\" class=\"dataframe\">\n",
       "  <thead>\n",
       "    <tr style=\"text-align: right;\">\n",
       "      <th></th>\n",
       "      <th>messages_included</th>\n",
       "      <th>mb_per_month_included</th>\n",
       "      <th>minutes_included</th>\n",
       "      <th>usd_monthly_pay</th>\n",
       "      <th>usd_per_gb</th>\n",
       "      <th>usd_per_message</th>\n",
       "      <th>usd_per_minute</th>\n",
       "      <th>plan_name</th>\n",
       "    </tr>\n",
       "  </thead>\n",
       "  <tbody>\n",
       "    <tr>\n",
       "      <th>0</th>\n",
       "      <td>50</td>\n",
       "      <td>15360</td>\n",
       "      <td>500</td>\n",
       "      <td>20</td>\n",
       "      <td>10</td>\n",
       "      <td>0.03</td>\n",
       "      <td>0.03</td>\n",
       "      <td>surf</td>\n",
       "    </tr>\n",
       "    <tr>\n",
       "      <th>1</th>\n",
       "      <td>1000</td>\n",
       "      <td>30720</td>\n",
       "      <td>3000</td>\n",
       "      <td>70</td>\n",
       "      <td>7</td>\n",
       "      <td>0.01</td>\n",
       "      <td>0.01</td>\n",
       "      <td>ultimate</td>\n",
       "    </tr>\n",
       "  </tbody>\n",
       "</table>\n",
       "</div>"
      ],
      "text/plain": [
       "   messages_included  mb_per_month_included  minutes_included  \\\n",
       "0                 50                  15360               500   \n",
       "1               1000                  30720              3000   \n",
       "\n",
       "   usd_monthly_pay  usd_per_gb  usd_per_message  usd_per_minute plan_name  \n",
       "0               20          10             0.03            0.03      surf  \n",
       "1               70           7             0.01            0.01  ultimate  "
      ]
     },
     "execution_count": 4,
     "metadata": {},
     "output_type": "execute_result"
    }
   ],
   "source": [
    "# Imprime una muestra de los datos para las tarifas\n",
    "plans"
   ]
  },
  {
   "cell_type": "markdown",
   "metadata": {
    "id": "mEc_3_hs0q02"
   },
   "source": [
    "Vemos que este data frame tiene toda la información sobre los dos plnaes de interés: los mensajes, minutos y mb para navegar que incluye mensualmente, y las tarifas por uso adicional. Toda la información tiene un tipo de dato adecuado, la información está completa y sin duplicados.\n",
    "\n",
    "Como se nos mencionó que el cobro de las tarifas se redondea por gigabytes y no por megabytes, sería útil **añadir una columna que contenga la información en GB**."
   ]
  },
  {
   "cell_type": "markdown",
   "metadata": {
    "collapsed": false,
    "id": "R3C05i1l0q03",
    "jupyter": {
     "outputs_hidden": false
    }
   },
   "source": [
    "#### Corregir datos"
   ]
  },
  {
   "cell_type": "markdown",
   "metadata": {
    "id": "bIi8StZI0q03"
   },
   "source": [
    "No hace falta corregir nada, ya que no hay valores ausentes ni duplicados y los tipos de datos son correctos."
   ]
  },
  {
   "cell_type": "markdown",
   "metadata": {
    "id": "LJir7bml0q03"
   },
   "source": [
    "#### Enriquecer los datos"
   ]
  },
  {
   "cell_type": "markdown",
   "metadata": {
    "id": "eqADpCfg0q04"
   },
   "source": [
    "Podemos agregar una columna adicional que contenga los **gigabytes** incluidos por mes."
   ]
  },
  {
   "cell_type": "code",
   "execution_count": 5,
   "metadata": {
    "id": "gfcIEuXV0q04"
   },
   "outputs": [
    {
     "data": {
      "text/html": [
       "<div>\n",
       "<style scoped>\n",
       "    .dataframe tbody tr th:only-of-type {\n",
       "        vertical-align: middle;\n",
       "    }\n",
       "\n",
       "    .dataframe tbody tr th {\n",
       "        vertical-align: top;\n",
       "    }\n",
       "\n",
       "    .dataframe thead th {\n",
       "        text-align: right;\n",
       "    }\n",
       "</style>\n",
       "<table border=\"1\" class=\"dataframe\">\n",
       "  <thead>\n",
       "    <tr style=\"text-align: right;\">\n",
       "      <th></th>\n",
       "      <th>messages_included</th>\n",
       "      <th>mb_per_month_included</th>\n",
       "      <th>minutes_included</th>\n",
       "      <th>usd_monthly_pay</th>\n",
       "      <th>usd_per_gb</th>\n",
       "      <th>usd_per_message</th>\n",
       "      <th>usd_per_minute</th>\n",
       "      <th>plan_name</th>\n",
       "      <th>gb_included</th>\n",
       "    </tr>\n",
       "  </thead>\n",
       "  <tbody>\n",
       "    <tr>\n",
       "      <th>0</th>\n",
       "      <td>50</td>\n",
       "      <td>15360</td>\n",
       "      <td>500</td>\n",
       "      <td>20</td>\n",
       "      <td>10</td>\n",
       "      <td>0.03</td>\n",
       "      <td>0.03</td>\n",
       "      <td>surf</td>\n",
       "      <td>15.0</td>\n",
       "    </tr>\n",
       "    <tr>\n",
       "      <th>1</th>\n",
       "      <td>1000</td>\n",
       "      <td>30720</td>\n",
       "      <td>3000</td>\n",
       "      <td>70</td>\n",
       "      <td>7</td>\n",
       "      <td>0.01</td>\n",
       "      <td>0.01</td>\n",
       "      <td>ultimate</td>\n",
       "      <td>30.0</td>\n",
       "    </tr>\n",
       "  </tbody>\n",
       "</table>\n",
       "</div>"
      ],
      "text/plain": [
       "   messages_included  mb_per_month_included  minutes_included  \\\n",
       "0                 50                  15360               500   \n",
       "1               1000                  30720              3000   \n",
       "\n",
       "   usd_monthly_pay  usd_per_gb  usd_per_message  usd_per_minute plan_name  \\\n",
       "0               20          10             0.03            0.03      surf   \n",
       "1               70           7             0.01            0.01  ultimate   \n",
       "\n",
       "   gb_included  \n",
       "0         15.0  \n",
       "1         30.0  "
      ]
     },
     "execution_count": 5,
     "metadata": {},
     "output_type": "execute_result"
    }
   ],
   "source": [
    "# Crear columna nueva con el número de gigas\n",
    "plans['gb_included'] = plans['mb_per_month_included'] / 1024\n",
    "plans"
   ]
  },
  {
   "cell_type": "code",
   "execution_count": 6,
   "metadata": {},
   "outputs": [
    {
     "data": {
      "text/html": [
       "<div>\n",
       "<style scoped>\n",
       "    .dataframe tbody tr th:only-of-type {\n",
       "        vertical-align: middle;\n",
       "    }\n",
       "\n",
       "    .dataframe tbody tr th {\n",
       "        vertical-align: top;\n",
       "    }\n",
       "\n",
       "    .dataframe thead th {\n",
       "        text-align: right;\n",
       "    }\n",
       "</style>\n",
       "<table border=\"1\" class=\"dataframe\">\n",
       "  <thead>\n",
       "    <tr style=\"text-align: right;\">\n",
       "      <th></th>\n",
       "      <th>messages_included</th>\n",
       "      <th>mb_per_month_included</th>\n",
       "      <th>minutes_included</th>\n",
       "      <th>usd_monthly_pay</th>\n",
       "      <th>usd_per_gb</th>\n",
       "      <th>usd_per_message</th>\n",
       "      <th>usd_per_minute</th>\n",
       "      <th>plan_name</th>\n",
       "      <th>gb_included</th>\n",
       "    </tr>\n",
       "  </thead>\n",
       "  <tbody>\n",
       "    <tr>\n",
       "      <th>0</th>\n",
       "      <td>50</td>\n",
       "      <td>15360</td>\n",
       "      <td>500</td>\n",
       "      <td>20</td>\n",
       "      <td>10</td>\n",
       "      <td>0.03</td>\n",
       "      <td>0.03</td>\n",
       "      <td>surf</td>\n",
       "      <td>15</td>\n",
       "    </tr>\n",
       "    <tr>\n",
       "      <th>1</th>\n",
       "      <td>1000</td>\n",
       "      <td>30720</td>\n",
       "      <td>3000</td>\n",
       "      <td>70</td>\n",
       "      <td>7</td>\n",
       "      <td>0.01</td>\n",
       "      <td>0.01</td>\n",
       "      <td>ultimate</td>\n",
       "      <td>30</td>\n",
       "    </tr>\n",
       "  </tbody>\n",
       "</table>\n",
       "</div>"
      ],
      "text/plain": [
       "   messages_included  mb_per_month_included  minutes_included  \\\n",
       "0                 50                  15360               500   \n",
       "1               1000                  30720              3000   \n",
       "\n",
       "   usd_monthly_pay  usd_per_gb  usd_per_message  usd_per_minute plan_name  \\\n",
       "0               20          10             0.03            0.03      surf   \n",
       "1               70           7             0.01            0.01  ultimate   \n",
       "\n",
       "   gb_included  \n",
       "0           15  \n",
       "1           30  "
      ]
     },
     "execution_count": 6,
     "metadata": {},
     "output_type": "execute_result"
    }
   ],
   "source": [
    "# Podemos convertir el tipo de dato de la nueva columna a entero\n",
    "plans['gb_included'] = plans['gb_included'].astype(int)\n",
    "plans"
   ]
  },
  {
   "cell_type": "markdown",
   "metadata": {
    "id": "1n2X6WXf0q04"
   },
   "source": [
    "## Usuarios/as"
   ]
  },
  {
   "cell_type": "code",
   "execution_count": 7,
   "metadata": {
    "id": "2NgjWFqx0q05"
   },
   "outputs": [
    {
     "name": "stdout",
     "output_type": "stream",
     "text": [
      "<class 'pandas.core.frame.DataFrame'>\n",
      "RangeIndex: 500 entries, 0 to 499\n",
      "Data columns (total 8 columns):\n",
      " #   Column      Non-Null Count  Dtype \n",
      "---  ------      --------------  ----- \n",
      " 0   user_id     500 non-null    int64 \n",
      " 1   first_name  500 non-null    object\n",
      " 2   last_name   500 non-null    object\n",
      " 3   age         500 non-null    int64 \n",
      " 4   city        500 non-null    object\n",
      " 5   reg_date    500 non-null    object\n",
      " 6   plan        500 non-null    object\n",
      " 7   churn_date  34 non-null     object\n",
      "dtypes: int64(2), object(6)\n",
      "memory usage: 31.4+ KB\n"
     ]
    }
   ],
   "source": [
    "# Imprime la información general/resumida sobre el DataFrame de usuarios\n",
    "users.info()"
   ]
  },
  {
   "cell_type": "code",
   "execution_count": 8,
   "metadata": {
    "id": "1IN1L9uh0q05"
   },
   "outputs": [
    {
     "data": {
      "text/html": [
       "<div>\n",
       "<style scoped>\n",
       "    .dataframe tbody tr th:only-of-type {\n",
       "        vertical-align: middle;\n",
       "    }\n",
       "\n",
       "    .dataframe tbody tr th {\n",
       "        vertical-align: top;\n",
       "    }\n",
       "\n",
       "    .dataframe thead th {\n",
       "        text-align: right;\n",
       "    }\n",
       "</style>\n",
       "<table border=\"1\" class=\"dataframe\">\n",
       "  <thead>\n",
       "    <tr style=\"text-align: right;\">\n",
       "      <th></th>\n",
       "      <th>user_id</th>\n",
       "      <th>first_name</th>\n",
       "      <th>last_name</th>\n",
       "      <th>age</th>\n",
       "      <th>city</th>\n",
       "      <th>reg_date</th>\n",
       "      <th>plan</th>\n",
       "      <th>churn_date</th>\n",
       "    </tr>\n",
       "  </thead>\n",
       "  <tbody>\n",
       "    <tr>\n",
       "      <th>191</th>\n",
       "      <td>1191</td>\n",
       "      <td>Zack</td>\n",
       "      <td>Waters</td>\n",
       "      <td>75</td>\n",
       "      <td>St. Louis, MO-IL MSA</td>\n",
       "      <td>2018-01-21</td>\n",
       "      <td>ultimate</td>\n",
       "      <td>2018-11-30</td>\n",
       "    </tr>\n",
       "    <tr>\n",
       "      <th>181</th>\n",
       "      <td>1181</td>\n",
       "      <td>Ron</td>\n",
       "      <td>Kaufman</td>\n",
       "      <td>47</td>\n",
       "      <td>New York-Newark-Jersey City, NY-NJ-PA MSA</td>\n",
       "      <td>2018-04-13</td>\n",
       "      <td>surf</td>\n",
       "      <td>NaN</td>\n",
       "    </tr>\n",
       "    <tr>\n",
       "      <th>393</th>\n",
       "      <td>1393</td>\n",
       "      <td>Wilfredo</td>\n",
       "      <td>Rosa</td>\n",
       "      <td>44</td>\n",
       "      <td>Knoxville, TN MSA</td>\n",
       "      <td>2018-10-29</td>\n",
       "      <td>surf</td>\n",
       "      <td>NaN</td>\n",
       "    </tr>\n",
       "    <tr>\n",
       "      <th>254</th>\n",
       "      <td>1254</td>\n",
       "      <td>Billy</td>\n",
       "      <td>Webb</td>\n",
       "      <td>49</td>\n",
       "      <td>Detroit-Warren-Dearborn, MI MSA</td>\n",
       "      <td>2018-08-03</td>\n",
       "      <td>surf</td>\n",
       "      <td>NaN</td>\n",
       "    </tr>\n",
       "    <tr>\n",
       "      <th>379</th>\n",
       "      <td>1379</td>\n",
       "      <td>Jarrett</td>\n",
       "      <td>Spencer</td>\n",
       "      <td>34</td>\n",
       "      <td>Grand Rapids-Kentwood, MI MSA</td>\n",
       "      <td>2018-10-18</td>\n",
       "      <td>surf</td>\n",
       "      <td>NaN</td>\n",
       "    </tr>\n",
       "  </tbody>\n",
       "</table>\n",
       "</div>"
      ],
      "text/plain": [
       "     user_id first_name last_name  age  \\\n",
       "191     1191       Zack    Waters   75   \n",
       "181     1181        Ron   Kaufman   47   \n",
       "393     1393   Wilfredo      Rosa   44   \n",
       "254     1254      Billy      Webb   49   \n",
       "379     1379    Jarrett   Spencer   34   \n",
       "\n",
       "                                          city    reg_date      plan  \\\n",
       "191                       St. Louis, MO-IL MSA  2018-01-21  ultimate   \n",
       "181  New York-Newark-Jersey City, NY-NJ-PA MSA  2018-04-13      surf   \n",
       "393                          Knoxville, TN MSA  2018-10-29      surf   \n",
       "254            Detroit-Warren-Dearborn, MI MSA  2018-08-03      surf   \n",
       "379              Grand Rapids-Kentwood, MI MSA  2018-10-18      surf   \n",
       "\n",
       "     churn_date  \n",
       "191  2018-11-30  \n",
       "181         NaN  \n",
       "393         NaN  \n",
       "254         NaN  \n",
       "379         NaN  "
      ]
     },
     "execution_count": 8,
     "metadata": {},
     "output_type": "execute_result"
    }
   ],
   "source": [
    "# Imprime una muestra de datos para usuarios\n",
    "users.sample(5)"
   ]
  },
  {
   "cell_type": "code",
   "execution_count": 9,
   "metadata": {},
   "outputs": [
    {
     "data": {
      "text/html": [
       "<div>\n",
       "<style scoped>\n",
       "    .dataframe tbody tr th:only-of-type {\n",
       "        vertical-align: middle;\n",
       "    }\n",
       "\n",
       "    .dataframe tbody tr th {\n",
       "        vertical-align: top;\n",
       "    }\n",
       "\n",
       "    .dataframe thead th {\n",
       "        text-align: right;\n",
       "    }\n",
       "</style>\n",
       "<table border=\"1\" class=\"dataframe\">\n",
       "  <thead>\n",
       "    <tr style=\"text-align: right;\">\n",
       "      <th></th>\n",
       "      <th>user_id</th>\n",
       "      <th>first_name</th>\n",
       "      <th>last_name</th>\n",
       "      <th>age</th>\n",
       "      <th>city</th>\n",
       "      <th>reg_date</th>\n",
       "      <th>plan</th>\n",
       "      <th>churn_date</th>\n",
       "    </tr>\n",
       "  </thead>\n",
       "  <tbody>\n",
       "  </tbody>\n",
       "</table>\n",
       "</div>"
      ],
      "text/plain": [
       "Empty DataFrame\n",
       "Columns: [user_id, first_name, last_name, age, city, reg_date, plan, churn_date]\n",
       "Index: []"
      ]
     },
     "execution_count": 9,
     "metadata": {},
     "output_type": "execute_result"
    }
   ],
   "source": [
    "# Verificar que no hay duplicados (por nombre completo)\n",
    "users[users[['first_name', 'last_name']].apply(lambda x: x.str.lower()).duplicated()]"
   ]
  },
  {
   "cell_type": "markdown",
   "metadata": {
    "id": "dCZoUq4f0q06"
   },
   "source": [
    "Este DataFrame contiene los datos de cada usuario, incluyendo el plan que contratan y sus fechas de registro y terminación. Notamos que a las dos columnas que tienen fechas (`reg_date`y `churn_date`) se les puede **cambiar el tipo de dato a datetime**. \n",
    "\n",
    "Además `churn_date` es la única columna con valores ausentes. Sin embargo estos valores ausentes están bien justificados porque corresponden a los usuarios que no han dejado de usar su plan.\n",
    "\n",
    "Finalmente verificamos que no hay registros duplicados."
   ]
  },
  {
   "cell_type": "markdown",
   "metadata": {
    "id": "BX5FQh_I0q06"
   },
   "source": [
    "### Corregir los datos"
   ]
  },
  {
   "cell_type": "markdown",
   "metadata": {
    "id": "8OdKMwJv0q06"
   },
   "source": [
    "Cambiamos el tipo de dato de las dos columnas que tienen fechas."
   ]
  },
  {
   "cell_type": "code",
   "execution_count": 10,
   "metadata": {
    "id": "yUqX-K0C0q07"
   },
   "outputs": [
    {
     "name": "stdout",
     "output_type": "stream",
     "text": [
      "<class 'pandas.core.frame.DataFrame'>\n",
      "RangeIndex: 500 entries, 0 to 499\n",
      "Data columns (total 8 columns):\n",
      " #   Column      Non-Null Count  Dtype         \n",
      "---  ------      --------------  -----         \n",
      " 0   user_id     500 non-null    int64         \n",
      " 1   first_name  500 non-null    object        \n",
      " 2   last_name   500 non-null    object        \n",
      " 3   age         500 non-null    int64         \n",
      " 4   city        500 non-null    object        \n",
      " 5   reg_date    500 non-null    datetime64[ns]\n",
      " 6   plan        500 non-null    object        \n",
      " 7   churn_date  34 non-null     datetime64[ns]\n",
      "dtypes: datetime64[ns](2), int64(2), object(4)\n",
      "memory usage: 31.4+ KB\n"
     ]
    }
   ],
   "source": [
    "# Cambiar columnas con fechas a datetime\n",
    "users['reg_date'] = pd.to_datetime(users['reg_date'])\n",
    "users['churn_date'] = pd.to_datetime(users['churn_date'])\n",
    "users.info()"
   ]
  },
  {
   "cell_type": "markdown",
   "metadata": {
    "id": "ycwuARJp0q07"
   },
   "source": [
    "### Enriquecer los datos"
   ]
  },
  {
   "cell_type": "markdown",
   "metadata": {
    "id": "96NIh4CJ0q08"
   },
   "source": [
    "No hace falta añadir datos a este data frame. "
   ]
  },
  {
   "cell_type": "code",
   "execution_count": 11,
   "metadata": {
    "id": "iq0AaBS90q08"
   },
   "outputs": [
    {
     "data": {
      "text/html": [
       "<div>\n",
       "<style scoped>\n",
       "    .dataframe tbody tr th:only-of-type {\n",
       "        vertical-align: middle;\n",
       "    }\n",
       "\n",
       "    .dataframe tbody tr th {\n",
       "        vertical-align: top;\n",
       "    }\n",
       "\n",
       "    .dataframe thead th {\n",
       "        text-align: right;\n",
       "    }\n",
       "</style>\n",
       "<table border=\"1\" class=\"dataframe\">\n",
       "  <thead>\n",
       "    <tr style=\"text-align: right;\">\n",
       "      <th></th>\n",
       "      <th>user_id</th>\n",
       "      <th>first_name</th>\n",
       "      <th>last_name</th>\n",
       "      <th>age</th>\n",
       "      <th>city</th>\n",
       "      <th>reg_date</th>\n",
       "      <th>plan</th>\n",
       "      <th>churn_date</th>\n",
       "    </tr>\n",
       "  </thead>\n",
       "  <tbody>\n",
       "    <tr>\n",
       "      <th>86</th>\n",
       "      <td>1086</td>\n",
       "      <td>Adena</td>\n",
       "      <td>Macias</td>\n",
       "      <td>36</td>\n",
       "      <td>New York-Newark-Jersey City, NY-NJ-PA MSA</td>\n",
       "      <td>2018-01-13</td>\n",
       "      <td>ultimate</td>\n",
       "      <td>NaT</td>\n",
       "    </tr>\n",
       "    <tr>\n",
       "      <th>99</th>\n",
       "      <td>1099</td>\n",
       "      <td>Shavon</td>\n",
       "      <td>Banks</td>\n",
       "      <td>48</td>\n",
       "      <td>New York-Newark-Jersey City, NY-NJ-PA MSA</td>\n",
       "      <td>2018-02-26</td>\n",
       "      <td>surf</td>\n",
       "      <td>NaT</td>\n",
       "    </tr>\n",
       "    <tr>\n",
       "      <th>9</th>\n",
       "      <td>1009</td>\n",
       "      <td>Gerry</td>\n",
       "      <td>Little</td>\n",
       "      <td>19</td>\n",
       "      <td>San Jose-Sunnyvale-Santa Clara, CA MSA</td>\n",
       "      <td>2018-04-22</td>\n",
       "      <td>surf</td>\n",
       "      <td>NaT</td>\n",
       "    </tr>\n",
       "    <tr>\n",
       "      <th>385</th>\n",
       "      <td>1385</td>\n",
       "      <td>Nohemi</td>\n",
       "      <td>Erickson</td>\n",
       "      <td>52</td>\n",
       "      <td>New York-Newark-Jersey City, NY-NJ-PA MSA</td>\n",
       "      <td>2018-01-19</td>\n",
       "      <td>surf</td>\n",
       "      <td>NaT</td>\n",
       "    </tr>\n",
       "    <tr>\n",
       "      <th>87</th>\n",
       "      <td>1087</td>\n",
       "      <td>Lenard</td>\n",
       "      <td>Atkinson</td>\n",
       "      <td>45</td>\n",
       "      <td>Washington-Arlington-Alexandria, DC-VA-MD-WV MSA</td>\n",
       "      <td>2018-11-18</td>\n",
       "      <td>surf</td>\n",
       "      <td>NaT</td>\n",
       "    </tr>\n",
       "  </tbody>\n",
       "</table>\n",
       "</div>"
      ],
      "text/plain": [
       "     user_id first_name last_name  age  \\\n",
       "86      1086      Adena    Macias   36   \n",
       "99      1099     Shavon     Banks   48   \n",
       "9       1009      Gerry    Little   19   \n",
       "385     1385     Nohemi  Erickson   52   \n",
       "87      1087     Lenard  Atkinson   45   \n",
       "\n",
       "                                                 city   reg_date      plan  \\\n",
       "86          New York-Newark-Jersey City, NY-NJ-PA MSA 2018-01-13  ultimate   \n",
       "99          New York-Newark-Jersey City, NY-NJ-PA MSA 2018-02-26      surf   \n",
       "9              San Jose-Sunnyvale-Santa Clara, CA MSA 2018-04-22      surf   \n",
       "385         New York-Newark-Jersey City, NY-NJ-PA MSA 2018-01-19      surf   \n",
       "87   Washington-Arlington-Alexandria, DC-VA-MD-WV MSA 2018-11-18      surf   \n",
       "\n",
       "    churn_date  \n",
       "86         NaT  \n",
       "99         NaT  \n",
       "9          NaT  \n",
       "385        NaT  \n",
       "87         NaT  "
      ]
     },
     "execution_count": 11,
     "metadata": {},
     "output_type": "execute_result"
    }
   ],
   "source": [
    "# Muestra de los datos modificados\n",
    "users.sample(5)"
   ]
  },
  {
   "cell_type": "markdown",
   "metadata": {
    "id": "o7MeKCid0q08"
   },
   "source": [
    "## Llamadas"
   ]
  },
  {
   "cell_type": "code",
   "execution_count": 12,
   "metadata": {
    "id": "6dDlnoDm0q08"
   },
   "outputs": [
    {
     "name": "stdout",
     "output_type": "stream",
     "text": [
      "<class 'pandas.core.frame.DataFrame'>\n",
      "RangeIndex: 137735 entries, 0 to 137734\n",
      "Data columns (total 4 columns):\n",
      " #   Column     Non-Null Count   Dtype  \n",
      "---  ------     --------------   -----  \n",
      " 0   id         137735 non-null  object \n",
      " 1   user_id    137735 non-null  int64  \n",
      " 2   call_date  137735 non-null  object \n",
      " 3   duration   137735 non-null  float64\n",
      "dtypes: float64(1), int64(1), object(2)\n",
      "memory usage: 4.2+ MB\n"
     ]
    }
   ],
   "source": [
    "# Imprime la información general/resumida sobre el DataFrame de las llamadas\n",
    "calls.info()"
   ]
  },
  {
   "cell_type": "code",
   "execution_count": 13,
   "metadata": {
    "id": "kuh1vlNB0q09"
   },
   "outputs": [
    {
     "data": {
      "text/html": [
       "<div>\n",
       "<style scoped>\n",
       "    .dataframe tbody tr th:only-of-type {\n",
       "        vertical-align: middle;\n",
       "    }\n",
       "\n",
       "    .dataframe tbody tr th {\n",
       "        vertical-align: top;\n",
       "    }\n",
       "\n",
       "    .dataframe thead th {\n",
       "        text-align: right;\n",
       "    }\n",
       "</style>\n",
       "<table border=\"1\" class=\"dataframe\">\n",
       "  <thead>\n",
       "    <tr style=\"text-align: right;\">\n",
       "      <th></th>\n",
       "      <th>id</th>\n",
       "      <th>user_id</th>\n",
       "      <th>call_date</th>\n",
       "      <th>duration</th>\n",
       "    </tr>\n",
       "  </thead>\n",
       "  <tbody>\n",
       "    <tr>\n",
       "      <th>137730</th>\n",
       "      <td>1499_199</td>\n",
       "      <td>1499</td>\n",
       "      <td>2018-11-21</td>\n",
       "      <td>8.72</td>\n",
       "    </tr>\n",
       "    <tr>\n",
       "      <th>137731</th>\n",
       "      <td>1499_200</td>\n",
       "      <td>1499</td>\n",
       "      <td>2018-10-20</td>\n",
       "      <td>10.89</td>\n",
       "    </tr>\n",
       "    <tr>\n",
       "      <th>137732</th>\n",
       "      <td>1499_201</td>\n",
       "      <td>1499</td>\n",
       "      <td>2018-09-21</td>\n",
       "      <td>8.12</td>\n",
       "    </tr>\n",
       "    <tr>\n",
       "      <th>137733</th>\n",
       "      <td>1499_202</td>\n",
       "      <td>1499</td>\n",
       "      <td>2018-10-10</td>\n",
       "      <td>0.37</td>\n",
       "    </tr>\n",
       "    <tr>\n",
       "      <th>137734</th>\n",
       "      <td>1499_203</td>\n",
       "      <td>1499</td>\n",
       "      <td>2018-12-29</td>\n",
       "      <td>13.86</td>\n",
       "    </tr>\n",
       "  </tbody>\n",
       "</table>\n",
       "</div>"
      ],
      "text/plain": [
       "              id  user_id   call_date  duration\n",
       "137730  1499_199     1499  2018-11-21      8.72\n",
       "137731  1499_200     1499  2018-10-20     10.89\n",
       "137732  1499_201     1499  2018-09-21      8.12\n",
       "137733  1499_202     1499  2018-10-10      0.37\n",
       "137734  1499_203     1499  2018-12-29     13.86"
      ]
     },
     "execution_count": 13,
     "metadata": {},
     "output_type": "execute_result"
    }
   ],
   "source": [
    "# Imprime una muestra de datos para las llamadas\n",
    "calls.tail()"
   ]
  },
  {
   "cell_type": "code",
   "execution_count": 14,
   "metadata": {},
   "outputs": [
    {
     "data": {
      "text/html": [
       "<div>\n",
       "<style scoped>\n",
       "    .dataframe tbody tr th:only-of-type {\n",
       "        vertical-align: middle;\n",
       "    }\n",
       "\n",
       "    .dataframe tbody tr th {\n",
       "        vertical-align: top;\n",
       "    }\n",
       "\n",
       "    .dataframe thead th {\n",
       "        text-align: right;\n",
       "    }\n",
       "</style>\n",
       "<table border=\"1\" class=\"dataframe\">\n",
       "  <thead>\n",
       "    <tr style=\"text-align: right;\">\n",
       "      <th></th>\n",
       "      <th>id</th>\n",
       "      <th>user_id</th>\n",
       "      <th>call_date</th>\n",
       "      <th>duration</th>\n",
       "    </tr>\n",
       "  </thead>\n",
       "  <tbody>\n",
       "  </tbody>\n",
       "</table>\n",
       "</div>"
      ],
      "text/plain": [
       "Empty DataFrame\n",
       "Columns: [id, user_id, call_date, duration]\n",
       "Index: []"
      ]
     },
     "execution_count": 14,
     "metadata": {},
     "output_type": "execute_result"
    }
   ],
   "source": [
    "# Verificar que no hay duplicados\n",
    "calls[calls['id'].duplicated()]"
   ]
  },
  {
   "cell_type": "markdown",
   "metadata": {
    "id": "DOAxYJSx0q09"
   },
   "source": [
    "De inicio observamos que no hay datos ausentes ni duplicados y que `call_date`se puede **cambiar a datetime**. Adicionalmente esto último nos permítirá extraer facilmente el mes de cada registro en una nueva columna.\n",
    "\n",
    "Además, recordemos que se mencionó que para cada llamada se **redondea la duración en minutos hacia arriba**. Vemos que actualmente el dataframe contiene minutos con decimales, así que podemos aplicar la operación techo (`np.ceil()`) en la columna `duration`. La conversión de tipo float a tipo int en esta columna la llevaremos a cabo más adelante.\n"
   ]
  },
  {
   "cell_type": "markdown",
   "metadata": {
    "id": "S7hzxmbX0q0-"
   },
   "source": [
    "### Corregir los datos"
   ]
  },
  {
   "cell_type": "markdown",
   "metadata": {
    "id": "YxWyAjD20q0-"
   },
   "source": [
    "Actualizamos el tipo de dato de las fechas a datetime y redondeamos hacia arriba la duración de las llamadas en minutos."
   ]
  },
  {
   "cell_type": "code",
   "execution_count": 15,
   "metadata": {
    "id": "S2r8xA4f0q0-"
   },
   "outputs": [
    {
     "name": "stdout",
     "output_type": "stream",
     "text": [
      "<class 'pandas.core.frame.DataFrame'>\n",
      "RangeIndex: 137735 entries, 0 to 137734\n",
      "Data columns (total 4 columns):\n",
      " #   Column     Non-Null Count   Dtype         \n",
      "---  ------     --------------   -----         \n",
      " 0   id         137735 non-null  object        \n",
      " 1   user_id    137735 non-null  int64         \n",
      " 2   call_date  137735 non-null  datetime64[ns]\n",
      " 3   duration   137735 non-null  float64       \n",
      "dtypes: datetime64[ns](1), float64(1), int64(1), object(1)\n",
      "memory usage: 4.2+ MB\n"
     ]
    }
   ],
   "source": [
    "# Cambiar las fechas a datetime\n",
    "calls['call_date'] = pd.to_datetime(calls['call_date'])\n",
    "\n",
    "# Redondear la duración en minutos\n",
    "calls['duration'] = np.ceil(calls['duration'])\n",
    "\n",
    "# Cambiar la duración a int?????????\n",
    "\n",
    "calls.info()"
   ]
  },
  {
   "cell_type": "markdown",
   "metadata": {
    "id": "KrMgTrlG0q0_"
   },
   "source": [
    "### Enriquecer los datos"
   ]
  },
  {
   "cell_type": "markdown",
   "metadata": {
    "id": "a9MbmEvE0q0_"
   },
   "source": [
    "Dado que finalmente queremos hacer un análisis de los consumos mensuales, agregamos la columna en la que extraemos sólamente el mes de cada registro."
   ]
  },
  {
   "cell_type": "code",
   "execution_count": 16,
   "metadata": {
    "id": "iZ1avpA_0q0_"
   },
   "outputs": [
    {
     "data": {
      "text/html": [
       "<div>\n",
       "<style scoped>\n",
       "    .dataframe tbody tr th:only-of-type {\n",
       "        vertical-align: middle;\n",
       "    }\n",
       "\n",
       "    .dataframe tbody tr th {\n",
       "        vertical-align: top;\n",
       "    }\n",
       "\n",
       "    .dataframe thead th {\n",
       "        text-align: right;\n",
       "    }\n",
       "</style>\n",
       "<table border=\"1\" class=\"dataframe\">\n",
       "  <thead>\n",
       "    <tr style=\"text-align: right;\">\n",
       "      <th></th>\n",
       "      <th>id</th>\n",
       "      <th>user_id</th>\n",
       "      <th>call_date</th>\n",
       "      <th>duration</th>\n",
       "      <th>month</th>\n",
       "    </tr>\n",
       "  </thead>\n",
       "  <tbody>\n",
       "    <tr>\n",
       "      <th>137730</th>\n",
       "      <td>1499_199</td>\n",
       "      <td>1499</td>\n",
       "      <td>2018-11-21</td>\n",
       "      <td>9.0</td>\n",
       "      <td>11</td>\n",
       "    </tr>\n",
       "    <tr>\n",
       "      <th>137731</th>\n",
       "      <td>1499_200</td>\n",
       "      <td>1499</td>\n",
       "      <td>2018-10-20</td>\n",
       "      <td>11.0</td>\n",
       "      <td>10</td>\n",
       "    </tr>\n",
       "    <tr>\n",
       "      <th>137732</th>\n",
       "      <td>1499_201</td>\n",
       "      <td>1499</td>\n",
       "      <td>2018-09-21</td>\n",
       "      <td>9.0</td>\n",
       "      <td>9</td>\n",
       "    </tr>\n",
       "    <tr>\n",
       "      <th>137733</th>\n",
       "      <td>1499_202</td>\n",
       "      <td>1499</td>\n",
       "      <td>2018-10-10</td>\n",
       "      <td>1.0</td>\n",
       "      <td>10</td>\n",
       "    </tr>\n",
       "    <tr>\n",
       "      <th>137734</th>\n",
       "      <td>1499_203</td>\n",
       "      <td>1499</td>\n",
       "      <td>2018-12-29</td>\n",
       "      <td>14.0</td>\n",
       "      <td>12</td>\n",
       "    </tr>\n",
       "  </tbody>\n",
       "</table>\n",
       "</div>"
      ],
      "text/plain": [
       "              id  user_id  call_date  duration  month\n",
       "137730  1499_199     1499 2018-11-21       9.0     11\n",
       "137731  1499_200     1499 2018-10-20      11.0     10\n",
       "137732  1499_201     1499 2018-09-21       9.0      9\n",
       "137733  1499_202     1499 2018-10-10       1.0     10\n",
       "137734  1499_203     1499 2018-12-29      14.0     12"
      ]
     },
     "execution_count": 16,
     "metadata": {},
     "output_type": "execute_result"
    }
   ],
   "source": [
    "# Agregar columna con el mes\n",
    "calls['month'] = calls['call_date'].dt.month\n",
    "\n",
    "calls.tail()"
   ]
  },
  {
   "cell_type": "markdown",
   "metadata": {
    "id": "mOUZSi180q0_"
   },
   "source": [
    "## Mensajes"
   ]
  },
  {
   "cell_type": "code",
   "execution_count": 17,
   "metadata": {
    "id": "R-bYJpdV0q1A"
   },
   "outputs": [
    {
     "name": "stdout",
     "output_type": "stream",
     "text": [
      "<class 'pandas.core.frame.DataFrame'>\n",
      "RangeIndex: 76051 entries, 0 to 76050\n",
      "Data columns (total 3 columns):\n",
      " #   Column        Non-Null Count  Dtype \n",
      "---  ------        --------------  ----- \n",
      " 0   id            76051 non-null  object\n",
      " 1   user_id       76051 non-null  int64 \n",
      " 2   message_date  76051 non-null  object\n",
      "dtypes: int64(1), object(2)\n",
      "memory usage: 1.7+ MB\n"
     ]
    }
   ],
   "source": [
    "# Imprime la información general/resumida sobre el DataFrame de los mensajes\n",
    "messages.info()"
   ]
  },
  {
   "cell_type": "code",
   "execution_count": 18,
   "metadata": {
    "id": "mCEl2iGE0q1A"
   },
   "outputs": [
    {
     "data": {
      "text/html": [
       "<div>\n",
       "<style scoped>\n",
       "    .dataframe tbody tr th:only-of-type {\n",
       "        vertical-align: middle;\n",
       "    }\n",
       "\n",
       "    .dataframe tbody tr th {\n",
       "        vertical-align: top;\n",
       "    }\n",
       "\n",
       "    .dataframe thead th {\n",
       "        text-align: right;\n",
       "    }\n",
       "</style>\n",
       "<table border=\"1\" class=\"dataframe\">\n",
       "  <thead>\n",
       "    <tr style=\"text-align: right;\">\n",
       "      <th></th>\n",
       "      <th>id</th>\n",
       "      <th>user_id</th>\n",
       "      <th>message_date</th>\n",
       "    </tr>\n",
       "  </thead>\n",
       "  <tbody>\n",
       "    <tr>\n",
       "      <th>0</th>\n",
       "      <td>1000_125</td>\n",
       "      <td>1000</td>\n",
       "      <td>2018-12-27</td>\n",
       "    </tr>\n",
       "    <tr>\n",
       "      <th>1</th>\n",
       "      <td>1000_160</td>\n",
       "      <td>1000</td>\n",
       "      <td>2018-12-31</td>\n",
       "    </tr>\n",
       "    <tr>\n",
       "      <th>2</th>\n",
       "      <td>1000_223</td>\n",
       "      <td>1000</td>\n",
       "      <td>2018-12-31</td>\n",
       "    </tr>\n",
       "    <tr>\n",
       "      <th>3</th>\n",
       "      <td>1000_251</td>\n",
       "      <td>1000</td>\n",
       "      <td>2018-12-27</td>\n",
       "    </tr>\n",
       "    <tr>\n",
       "      <th>4</th>\n",
       "      <td>1000_255</td>\n",
       "      <td>1000</td>\n",
       "      <td>2018-12-26</td>\n",
       "    </tr>\n",
       "  </tbody>\n",
       "</table>\n",
       "</div>"
      ],
      "text/plain": [
       "         id  user_id message_date\n",
       "0  1000_125     1000   2018-12-27\n",
       "1  1000_160     1000   2018-12-31\n",
       "2  1000_223     1000   2018-12-31\n",
       "3  1000_251     1000   2018-12-27\n",
       "4  1000_255     1000   2018-12-26"
      ]
     },
     "execution_count": 18,
     "metadata": {},
     "output_type": "execute_result"
    }
   ],
   "source": [
    "# Imprime una muestra de datos para los mensajes\n",
    "messages.head()"
   ]
  },
  {
   "cell_type": "code",
   "execution_count": 19,
   "metadata": {},
   "outputs": [
    {
     "data": {
      "text/html": [
       "<div>\n",
       "<style scoped>\n",
       "    .dataframe tbody tr th:only-of-type {\n",
       "        vertical-align: middle;\n",
       "    }\n",
       "\n",
       "    .dataframe tbody tr th {\n",
       "        vertical-align: top;\n",
       "    }\n",
       "\n",
       "    .dataframe thead th {\n",
       "        text-align: right;\n",
       "    }\n",
       "</style>\n",
       "<table border=\"1\" class=\"dataframe\">\n",
       "  <thead>\n",
       "    <tr style=\"text-align: right;\">\n",
       "      <th></th>\n",
       "      <th>id</th>\n",
       "      <th>user_id</th>\n",
       "      <th>message_date</th>\n",
       "    </tr>\n",
       "  </thead>\n",
       "  <tbody>\n",
       "  </tbody>\n",
       "</table>\n",
       "</div>"
      ],
      "text/plain": [
       "Empty DataFrame\n",
       "Columns: [id, user_id, message_date]\n",
       "Index: []"
      ]
     },
     "execution_count": 19,
     "metadata": {},
     "output_type": "execute_result"
    }
   ],
   "source": [
    "# Verificar que no hay duplicados\n",
    "messages[messages['id'].duplicated()]\n"
   ]
  },
  {
   "cell_type": "markdown",
   "metadata": {
    "id": "04xDj7KH0q1A"
   },
   "source": [
    "Aquí de nuevo vemos una fecha (`message_date`) que se puede actualizar a tipo datetime. Los demás elementos del dataframe cumplen con lo esperado."
   ]
  },
  {
   "cell_type": "markdown",
   "metadata": {
    "id": "Sprfak900q1B"
   },
   "source": [
    "### Corregir los datos"
   ]
  },
  {
   "cell_type": "markdown",
   "metadata": {
    "id": "eGw7d9j10q1B"
   },
   "source": [
    "Actualizamos el tipo de dato de las fechas a datetime."
   ]
  },
  {
   "cell_type": "code",
   "execution_count": 20,
   "metadata": {
    "id": "vsllvkoa0q1B"
   },
   "outputs": [],
   "source": [
    "# Cambiar las fechas a datetime\n",
    "messages['message_date'] = pd.to_datetime(messages['message_date'])"
   ]
  },
  {
   "cell_type": "markdown",
   "metadata": {
    "id": "HvLid7iD0q1B"
   },
   "source": [
    "### Enriquecer los datos"
   ]
  },
  {
   "cell_type": "markdown",
   "metadata": {
    "id": "8nhPFKIe0q1C"
   },
   "source": [
    "Igual que en la sección anterior, gracias a que tenemos las fechas en tipo datetime, podemos agregar una columna en la que extraemos sólamente el mes de cada registro."
   ]
  },
  {
   "cell_type": "code",
   "execution_count": 21,
   "metadata": {
    "id": "zYEXZac10q1C"
   },
   "outputs": [
    {
     "data": {
      "text/html": [
       "<div>\n",
       "<style scoped>\n",
       "    .dataframe tbody tr th:only-of-type {\n",
       "        vertical-align: middle;\n",
       "    }\n",
       "\n",
       "    .dataframe tbody tr th {\n",
       "        vertical-align: top;\n",
       "    }\n",
       "\n",
       "    .dataframe thead th {\n",
       "        text-align: right;\n",
       "    }\n",
       "</style>\n",
       "<table border=\"1\" class=\"dataframe\">\n",
       "  <thead>\n",
       "    <tr style=\"text-align: right;\">\n",
       "      <th></th>\n",
       "      <th>id</th>\n",
       "      <th>user_id</th>\n",
       "      <th>message_date</th>\n",
       "      <th>month</th>\n",
       "    </tr>\n",
       "  </thead>\n",
       "  <tbody>\n",
       "    <tr>\n",
       "      <th>76046</th>\n",
       "      <td>1497_526</td>\n",
       "      <td>1497</td>\n",
       "      <td>2018-12-24</td>\n",
       "      <td>12</td>\n",
       "    </tr>\n",
       "    <tr>\n",
       "      <th>76047</th>\n",
       "      <td>1497_536</td>\n",
       "      <td>1497</td>\n",
       "      <td>2018-12-24</td>\n",
       "      <td>12</td>\n",
       "    </tr>\n",
       "    <tr>\n",
       "      <th>76048</th>\n",
       "      <td>1497_547</td>\n",
       "      <td>1497</td>\n",
       "      <td>2018-12-31</td>\n",
       "      <td>12</td>\n",
       "    </tr>\n",
       "    <tr>\n",
       "      <th>76049</th>\n",
       "      <td>1497_558</td>\n",
       "      <td>1497</td>\n",
       "      <td>2018-12-24</td>\n",
       "      <td>12</td>\n",
       "    </tr>\n",
       "    <tr>\n",
       "      <th>76050</th>\n",
       "      <td>1497_613</td>\n",
       "      <td>1497</td>\n",
       "      <td>2018-12-23</td>\n",
       "      <td>12</td>\n",
       "    </tr>\n",
       "  </tbody>\n",
       "</table>\n",
       "</div>"
      ],
      "text/plain": [
       "             id  user_id message_date  month\n",
       "76046  1497_526     1497   2018-12-24     12\n",
       "76047  1497_536     1497   2018-12-24     12\n",
       "76048  1497_547     1497   2018-12-31     12\n",
       "76049  1497_558     1497   2018-12-24     12\n",
       "76050  1497_613     1497   2018-12-23     12"
      ]
     },
     "execution_count": 21,
     "metadata": {},
     "output_type": "execute_result"
    }
   ],
   "source": [
    "# Agregar columna con el mes\n",
    "messages['month'] = messages['message_date'].dt.month\n",
    "\n",
    "messages.tail()"
   ]
  },
  {
   "cell_type": "markdown",
   "metadata": {
    "id": "bStkaxn40q1C"
   },
   "source": [
    "## Internet"
   ]
  },
  {
   "cell_type": "code",
   "execution_count": 22,
   "metadata": {
    "id": "e-Uz5qyn0q1C"
   },
   "outputs": [
    {
     "name": "stdout",
     "output_type": "stream",
     "text": [
      "<class 'pandas.core.frame.DataFrame'>\n",
      "RangeIndex: 104825 entries, 0 to 104824\n",
      "Data columns (total 4 columns):\n",
      " #   Column        Non-Null Count   Dtype  \n",
      "---  ------        --------------   -----  \n",
      " 0   id            104825 non-null  object \n",
      " 1   user_id       104825 non-null  int64  \n",
      " 2   session_date  104825 non-null  object \n",
      " 3   mb_used       104825 non-null  float64\n",
      "dtypes: float64(1), int64(1), object(2)\n",
      "memory usage: 3.2+ MB\n"
     ]
    }
   ],
   "source": [
    "# Imprime la información general/resumida sobre el DataFrame de internet\n",
    "internet.info()"
   ]
  },
  {
   "cell_type": "code",
   "execution_count": 23,
   "metadata": {
    "id": "9r3x_XLw0q1C"
   },
   "outputs": [
    {
     "data": {
      "text/html": [
       "<div>\n",
       "<style scoped>\n",
       "    .dataframe tbody tr th:only-of-type {\n",
       "        vertical-align: middle;\n",
       "    }\n",
       "\n",
       "    .dataframe tbody tr th {\n",
       "        vertical-align: top;\n",
       "    }\n",
       "\n",
       "    .dataframe thead th {\n",
       "        text-align: right;\n",
       "    }\n",
       "</style>\n",
       "<table border=\"1\" class=\"dataframe\">\n",
       "  <thead>\n",
       "    <tr style=\"text-align: right;\">\n",
       "      <th></th>\n",
       "      <th>id</th>\n",
       "      <th>user_id</th>\n",
       "      <th>session_date</th>\n",
       "      <th>mb_used</th>\n",
       "    </tr>\n",
       "  </thead>\n",
       "  <tbody>\n",
       "    <tr>\n",
       "      <th>0</th>\n",
       "      <td>1000_13</td>\n",
       "      <td>1000</td>\n",
       "      <td>2018-12-29</td>\n",
       "      <td>89.86</td>\n",
       "    </tr>\n",
       "    <tr>\n",
       "      <th>1</th>\n",
       "      <td>1000_204</td>\n",
       "      <td>1000</td>\n",
       "      <td>2018-12-31</td>\n",
       "      <td>0.00</td>\n",
       "    </tr>\n",
       "    <tr>\n",
       "      <th>2</th>\n",
       "      <td>1000_379</td>\n",
       "      <td>1000</td>\n",
       "      <td>2018-12-28</td>\n",
       "      <td>660.40</td>\n",
       "    </tr>\n",
       "    <tr>\n",
       "      <th>3</th>\n",
       "      <td>1000_413</td>\n",
       "      <td>1000</td>\n",
       "      <td>2018-12-26</td>\n",
       "      <td>270.99</td>\n",
       "    </tr>\n",
       "    <tr>\n",
       "      <th>4</th>\n",
       "      <td>1000_442</td>\n",
       "      <td>1000</td>\n",
       "      <td>2018-12-27</td>\n",
       "      <td>880.22</td>\n",
       "    </tr>\n",
       "  </tbody>\n",
       "</table>\n",
       "</div>"
      ],
      "text/plain": [
       "         id  user_id session_date  mb_used\n",
       "0   1000_13     1000   2018-12-29    89.86\n",
       "1  1000_204     1000   2018-12-31     0.00\n",
       "2  1000_379     1000   2018-12-28   660.40\n",
       "3  1000_413     1000   2018-12-26   270.99\n",
       "4  1000_442     1000   2018-12-27   880.22"
      ]
     },
     "execution_count": 23,
     "metadata": {},
     "output_type": "execute_result"
    }
   ],
   "source": [
    "# Imprime una muestra de datos para el tráfico de internet\n",
    "internet.head()"
   ]
  },
  {
   "cell_type": "markdown",
   "metadata": {
    "id": "EzOG5ik30q1D"
   },
   "source": [
    "Una vez más hay que actualizar la columna con fechas (`session_date`) **a tipo datetime**. \n",
    "\n",
    "Además recordemos que al final nos interesa el número de gigabytes y no de megabytes, por lo que es conveniente **agregar una columna** con esta inforación, como hicimos en `tarifas`. Y recordemos que en este caso no debemos redondear el número de GB usados todavía, ya que estos se redondean hasta hacer el recuento mensual.\n",
    "\n",
    "Los demás elementos del DataFrame cumplen con lo esperado."
   ]
  },
  {
   "cell_type": "markdown",
   "metadata": {
    "id": "yA0tkPFg0q1D"
   },
   "source": [
    "### Corregir los datos"
   ]
  },
  {
   "cell_type": "markdown",
   "metadata": {
    "id": "zlZMuIEK0q1D"
   },
   "source": [
    "Actualizamos el tipo de dato de las fechas a datetime."
   ]
  },
  {
   "cell_type": "code",
   "execution_count": 24,
   "metadata": {
    "id": "zVeanzdd0q1E"
   },
   "outputs": [
    {
     "name": "stdout",
     "output_type": "stream",
     "text": [
      "<class 'pandas.core.frame.DataFrame'>\n",
      "RangeIndex: 104825 entries, 0 to 104824\n",
      "Data columns (total 4 columns):\n",
      " #   Column        Non-Null Count   Dtype         \n",
      "---  ------        --------------   -----         \n",
      " 0   id            104825 non-null  object        \n",
      " 1   user_id       104825 non-null  int64         \n",
      " 2   session_date  104825 non-null  datetime64[ns]\n",
      " 3   mb_used       104825 non-null  float64       \n",
      "dtypes: datetime64[ns](1), float64(1), int64(1), object(1)\n",
      "memory usage: 3.2+ MB\n"
     ]
    }
   ],
   "source": [
    "# Cambiar las fechas a datetime\n",
    "internet['session_date'] = pd.to_datetime(internet['session_date'])\n",
    "internet.info()"
   ]
  },
  {
   "cell_type": "markdown",
   "metadata": {
    "id": "e8_mLF4a0q1E"
   },
   "source": [
    "### Enriquecer los datos"
   ]
  },
  {
   "cell_type": "markdown",
   "metadata": {
    "id": "xhNdn2tE0q1E"
   },
   "source": [
    "Como en las dos tablas anteriores, agregamos una columna en la que extraemos sólamente el mes de cada registro.\n",
    "\n",
    "Adicionalmente agregamos una columna con los GB usados."
   ]
  },
  {
   "cell_type": "code",
   "execution_count": 25,
   "metadata": {
    "id": "ESiYPIEK0q1E"
   },
   "outputs": [
    {
     "data": {
      "text/html": [
       "<div>\n",
       "<style scoped>\n",
       "    .dataframe tbody tr th:only-of-type {\n",
       "        vertical-align: middle;\n",
       "    }\n",
       "\n",
       "    .dataframe tbody tr th {\n",
       "        vertical-align: top;\n",
       "    }\n",
       "\n",
       "    .dataframe thead th {\n",
       "        text-align: right;\n",
       "    }\n",
       "</style>\n",
       "<table border=\"1\" class=\"dataframe\">\n",
       "  <thead>\n",
       "    <tr style=\"text-align: right;\">\n",
       "      <th></th>\n",
       "      <th>id</th>\n",
       "      <th>user_id</th>\n",
       "      <th>session_date</th>\n",
       "      <th>mb_used</th>\n",
       "      <th>month</th>\n",
       "      <th>gb_used</th>\n",
       "    </tr>\n",
       "  </thead>\n",
       "  <tbody>\n",
       "    <tr>\n",
       "      <th>0</th>\n",
       "      <td>1000_13</td>\n",
       "      <td>1000</td>\n",
       "      <td>2018-12-29</td>\n",
       "      <td>89.86</td>\n",
       "      <td>12</td>\n",
       "      <td>0.087754</td>\n",
       "    </tr>\n",
       "    <tr>\n",
       "      <th>1</th>\n",
       "      <td>1000_204</td>\n",
       "      <td>1000</td>\n",
       "      <td>2018-12-31</td>\n",
       "      <td>0.00</td>\n",
       "      <td>12</td>\n",
       "      <td>0.000000</td>\n",
       "    </tr>\n",
       "    <tr>\n",
       "      <th>2</th>\n",
       "      <td>1000_379</td>\n",
       "      <td>1000</td>\n",
       "      <td>2018-12-28</td>\n",
       "      <td>660.40</td>\n",
       "      <td>12</td>\n",
       "      <td>0.644922</td>\n",
       "    </tr>\n",
       "    <tr>\n",
       "      <th>3</th>\n",
       "      <td>1000_413</td>\n",
       "      <td>1000</td>\n",
       "      <td>2018-12-26</td>\n",
       "      <td>270.99</td>\n",
       "      <td>12</td>\n",
       "      <td>0.264639</td>\n",
       "    </tr>\n",
       "    <tr>\n",
       "      <th>4</th>\n",
       "      <td>1000_442</td>\n",
       "      <td>1000</td>\n",
       "      <td>2018-12-27</td>\n",
       "      <td>880.22</td>\n",
       "      <td>12</td>\n",
       "      <td>0.859590</td>\n",
       "    </tr>\n",
       "  </tbody>\n",
       "</table>\n",
       "</div>"
      ],
      "text/plain": [
       "         id  user_id session_date  mb_used  month   gb_used\n",
       "0   1000_13     1000   2018-12-29    89.86     12  0.087754\n",
       "1  1000_204     1000   2018-12-31     0.00     12  0.000000\n",
       "2  1000_379     1000   2018-12-28   660.40     12  0.644922\n",
       "3  1000_413     1000   2018-12-26   270.99     12  0.264639\n",
       "4  1000_442     1000   2018-12-27   880.22     12  0.859590"
      ]
     },
     "execution_count": 25,
     "metadata": {},
     "output_type": "execute_result"
    }
   ],
   "source": [
    "# Agregar columna con el mes\n",
    "internet['month'] = internet['session_date'].dt.month\n",
    "\n",
    "# Agregar columna de GB\n",
    "internet['gb_used'] = internet['mb_used'] / 1024\n",
    "\n",
    "internet.head()"
   ]
  },
  {
   "cell_type": "markdown",
   "metadata": {
    "id": "3UA2cqIW0q1E"
   },
   "source": [
    "## Estudiar las condiciones de las tarifas"
   ]
  },
  {
   "cell_type": "markdown",
   "metadata": {
    "id": "T86Sqltq0q1F"
   },
   "source": [
    "Debemos entender cómo funcionan las tarifas, es decir cómo se les cobra a los usuarios en función de su plan de suscripción. Imprimimos aquí de nuevo la información de la tarifa para ver una vez más sus condiciones."
   ]
  },
  {
   "cell_type": "code",
   "execution_count": 26,
   "metadata": {
    "id": "i409op8p0q1F"
   },
   "outputs": [
    {
     "data": {
      "text/html": [
       "<div>\n",
       "<style scoped>\n",
       "    .dataframe tbody tr th:only-of-type {\n",
       "        vertical-align: middle;\n",
       "    }\n",
       "\n",
       "    .dataframe tbody tr th {\n",
       "        vertical-align: top;\n",
       "    }\n",
       "\n",
       "    .dataframe thead th {\n",
       "        text-align: right;\n",
       "    }\n",
       "</style>\n",
       "<table border=\"1\" class=\"dataframe\">\n",
       "  <thead>\n",
       "    <tr style=\"text-align: right;\">\n",
       "      <th></th>\n",
       "      <th>messages_included</th>\n",
       "      <th>mb_per_month_included</th>\n",
       "      <th>minutes_included</th>\n",
       "      <th>usd_monthly_pay</th>\n",
       "      <th>usd_per_gb</th>\n",
       "      <th>usd_per_message</th>\n",
       "      <th>usd_per_minute</th>\n",
       "      <th>plan_name</th>\n",
       "      <th>gb_included</th>\n",
       "    </tr>\n",
       "  </thead>\n",
       "  <tbody>\n",
       "    <tr>\n",
       "      <th>0</th>\n",
       "      <td>50</td>\n",
       "      <td>15360</td>\n",
       "      <td>500</td>\n",
       "      <td>20</td>\n",
       "      <td>10</td>\n",
       "      <td>0.03</td>\n",
       "      <td>0.03</td>\n",
       "      <td>surf</td>\n",
       "      <td>15</td>\n",
       "    </tr>\n",
       "    <tr>\n",
       "      <th>1</th>\n",
       "      <td>1000</td>\n",
       "      <td>30720</td>\n",
       "      <td>3000</td>\n",
       "      <td>70</td>\n",
       "      <td>7</td>\n",
       "      <td>0.01</td>\n",
       "      <td>0.01</td>\n",
       "      <td>ultimate</td>\n",
       "      <td>30</td>\n",
       "    </tr>\n",
       "  </tbody>\n",
       "</table>\n",
       "</div>"
      ],
      "text/plain": [
       "   messages_included  mb_per_month_included  minutes_included  \\\n",
       "0                 50                  15360               500   \n",
       "1               1000                  30720              3000   \n",
       "\n",
       "   usd_monthly_pay  usd_per_gb  usd_per_message  usd_per_minute plan_name  \\\n",
       "0               20          10             0.03            0.03      surf   \n",
       "1               70           7             0.01            0.01  ultimate   \n",
       "\n",
       "   gb_included  \n",
       "0           15  \n",
       "1           30  "
      ]
     },
     "execution_count": 26,
     "metadata": {},
     "output_type": "execute_result"
    }
   ],
   "source": [
    "# Imprime las condiciones de la tarifa y asegúrate de que te quedan claras\n",
    "plans"
   ]
  },
  {
   "cell_type": "markdown",
   "metadata": {
    "id": "hMR1tP5d0q1F"
   },
   "source": [
    "## Agregar datos por usuario\n",
    "\n",
    "Ahora que los datos están limpios,nos interesa sintetizar los datos en cada categoría de consume por usuario y por periodo (mes) para que solo haya un registro por usuario y por periodo. \n",
    "Para ello haremos una agregación con `.groupby()` por usuario y mes (usando la columna `month`que creamos) para cada una de las tablas relevantes. \n",
    "\n",
    "Posteriormente juntaremos toda la información en una única tabla para facilitar el análisis."
   ]
  },
  {
   "cell_type": "code",
   "execution_count": 27,
   "metadata": {
    "id": "A332cedB0q1G"
   },
   "outputs": [],
   "source": [
    "# Calcula el número de llamadas hechas por cada usuario al mes\n",
    "# y la cantidad de minutos usados por cada usuario al mes. Guarda el resultado.\n",
    "\n",
    "calls_monthly = calls.groupby(['user_id', 'month']).agg(\n",
    "    total_calls = ('id', 'count'),\n",
    "    total_mins = ('duration', 'sum')\n",
    ")\n",
    "calls_monthly.reset_index(inplace=True)"
   ]
  },
  {
   "cell_type": "code",
   "execution_count": 28,
   "metadata": {
    "id": "aw2cmuql0q1G"
   },
   "outputs": [
    {
     "name": "stdout",
     "output_type": "stream",
     "text": [
      "<class 'pandas.core.frame.DataFrame'>\n",
      "RangeIndex: 2258 entries, 0 to 2257\n",
      "Data columns (total 4 columns):\n",
      " #   Column       Non-Null Count  Dtype  \n",
      "---  ------       --------------  -----  \n",
      " 0   user_id      2258 non-null   int64  \n",
      " 1   month        2258 non-null   int64  \n",
      " 2   total_calls  2258 non-null   int64  \n",
      " 3   total_mins   2258 non-null   float64\n",
      "dtypes: float64(1), int64(3)\n",
      "memory usage: 70.7 KB\n"
     ]
    }
   ],
   "source": [
    "# Calcula la cantidad de minutos usados por cada usuario al mes. Guarda el resultado.\n",
    "\n",
    "#Completamos esta tarea en la celda anterior\n",
    "calls_monthly.info()"
   ]
  },
  {
   "cell_type": "code",
   "execution_count": 29,
   "metadata": {
    "id": "CcQvNHn60q1G"
   },
   "outputs": [
    {
     "data": {
      "text/html": [
       "<div>\n",
       "<style scoped>\n",
       "    .dataframe tbody tr th:only-of-type {\n",
       "        vertical-align: middle;\n",
       "    }\n",
       "\n",
       "    .dataframe tbody tr th {\n",
       "        vertical-align: top;\n",
       "    }\n",
       "\n",
       "    .dataframe thead th {\n",
       "        text-align: right;\n",
       "    }\n",
       "</style>\n",
       "<table border=\"1\" class=\"dataframe\">\n",
       "  <thead>\n",
       "    <tr style=\"text-align: right;\">\n",
       "      <th></th>\n",
       "      <th>user_id</th>\n",
       "      <th>month</th>\n",
       "      <th>total_msgs</th>\n",
       "    </tr>\n",
       "  </thead>\n",
       "  <tbody>\n",
       "    <tr>\n",
       "      <th>0</th>\n",
       "      <td>1000</td>\n",
       "      <td>12</td>\n",
       "      <td>11</td>\n",
       "    </tr>\n",
       "    <tr>\n",
       "      <th>1</th>\n",
       "      <td>1001</td>\n",
       "      <td>8</td>\n",
       "      <td>30</td>\n",
       "    </tr>\n",
       "    <tr>\n",
       "      <th>2</th>\n",
       "      <td>1001</td>\n",
       "      <td>9</td>\n",
       "      <td>44</td>\n",
       "    </tr>\n",
       "    <tr>\n",
       "      <th>3</th>\n",
       "      <td>1001</td>\n",
       "      <td>10</td>\n",
       "      <td>53</td>\n",
       "    </tr>\n",
       "    <tr>\n",
       "      <th>4</th>\n",
       "      <td>1001</td>\n",
       "      <td>11</td>\n",
       "      <td>36</td>\n",
       "    </tr>\n",
       "    <tr>\n",
       "      <th>...</th>\n",
       "      <td>...</td>\n",
       "      <td>...</td>\n",
       "      <td>...</td>\n",
       "    </tr>\n",
       "    <tr>\n",
       "      <th>1801</th>\n",
       "      <td>1496</td>\n",
       "      <td>9</td>\n",
       "      <td>21</td>\n",
       "    </tr>\n",
       "    <tr>\n",
       "      <th>1802</th>\n",
       "      <td>1496</td>\n",
       "      <td>10</td>\n",
       "      <td>18</td>\n",
       "    </tr>\n",
       "    <tr>\n",
       "      <th>1803</th>\n",
       "      <td>1496</td>\n",
       "      <td>11</td>\n",
       "      <td>13</td>\n",
       "    </tr>\n",
       "    <tr>\n",
       "      <th>1804</th>\n",
       "      <td>1496</td>\n",
       "      <td>12</td>\n",
       "      <td>11</td>\n",
       "    </tr>\n",
       "    <tr>\n",
       "      <th>1805</th>\n",
       "      <td>1497</td>\n",
       "      <td>12</td>\n",
       "      <td>50</td>\n",
       "    </tr>\n",
       "  </tbody>\n",
       "</table>\n",
       "<p>1806 rows × 3 columns</p>\n",
       "</div>"
      ],
      "text/plain": [
       "      user_id  month  total_msgs\n",
       "0        1000     12          11\n",
       "1        1001      8          30\n",
       "2        1001      9          44\n",
       "3        1001     10          53\n",
       "4        1001     11          36\n",
       "...       ...    ...         ...\n",
       "1801     1496      9          21\n",
       "1802     1496     10          18\n",
       "1803     1496     11          13\n",
       "1804     1496     12          11\n",
       "1805     1497     12          50\n",
       "\n",
       "[1806 rows x 3 columns]"
      ]
     },
     "execution_count": 29,
     "metadata": {},
     "output_type": "execute_result"
    }
   ],
   "source": [
    "# Calcula el número de mensajes enviados por cada usuario al mes. Guarda el resultado.\n",
    "\n",
    "msg_monthly = messages.groupby(['user_id', 'month'])['id'].count().reset_index()\n",
    "msg_monthly.rename(columns={'id':'total_msgs'}, inplace=True)\n",
    "msg_monthly"
   ]
  },
  {
   "cell_type": "code",
   "execution_count": 30,
   "metadata": {
    "id": "H1AqN2eG0q1H"
   },
   "outputs": [
    {
     "data": {
      "text/html": [
       "<div>\n",
       "<style scoped>\n",
       "    .dataframe tbody tr th:only-of-type {\n",
       "        vertical-align: middle;\n",
       "    }\n",
       "\n",
       "    .dataframe tbody tr th {\n",
       "        vertical-align: top;\n",
       "    }\n",
       "\n",
       "    .dataframe thead th {\n",
       "        text-align: right;\n",
       "    }\n",
       "</style>\n",
       "<table border=\"1\" class=\"dataframe\">\n",
       "  <thead>\n",
       "    <tr style=\"text-align: right;\">\n",
       "      <th></th>\n",
       "      <th>user_id</th>\n",
       "      <th>month</th>\n",
       "      <th>gb_used</th>\n",
       "    </tr>\n",
       "  </thead>\n",
       "  <tbody>\n",
       "    <tr>\n",
       "      <th>0</th>\n",
       "      <td>1000</td>\n",
       "      <td>12</td>\n",
       "      <td>1.856904</td>\n",
       "    </tr>\n",
       "    <tr>\n",
       "      <th>1</th>\n",
       "      <td>1001</td>\n",
       "      <td>8</td>\n",
       "      <td>6.756982</td>\n",
       "    </tr>\n",
       "    <tr>\n",
       "      <th>2</th>\n",
       "      <td>1001</td>\n",
       "      <td>9</td>\n",
       "      <td>13.002754</td>\n",
       "    </tr>\n",
       "    <tr>\n",
       "      <th>3</th>\n",
       "      <td>1001</td>\n",
       "      <td>10</td>\n",
       "      <td>21.807119</td>\n",
       "    </tr>\n",
       "    <tr>\n",
       "      <th>4</th>\n",
       "      <td>1001</td>\n",
       "      <td>11</td>\n",
       "      <td>18.070605</td>\n",
       "    </tr>\n",
       "    <tr>\n",
       "      <th>...</th>\n",
       "      <td>...</td>\n",
       "      <td>...</td>\n",
       "      <td>...</td>\n",
       "    </tr>\n",
       "    <tr>\n",
       "      <th>2272</th>\n",
       "      <td>1498</td>\n",
       "      <td>12</td>\n",
       "      <td>22.595400</td>\n",
       "    </tr>\n",
       "    <tr>\n",
       "      <th>2273</th>\n",
       "      <td>1499</td>\n",
       "      <td>9</td>\n",
       "      <td>12.680430</td>\n",
       "    </tr>\n",
       "    <tr>\n",
       "      <th>2274</th>\n",
       "      <td>1499</td>\n",
       "      <td>10</td>\n",
       "      <td>19.035576</td>\n",
       "    </tr>\n",
       "    <tr>\n",
       "      <th>2275</th>\n",
       "      <td>1499</td>\n",
       "      <td>11</td>\n",
       "      <td>16.419756</td>\n",
       "    </tr>\n",
       "    <tr>\n",
       "      <th>2276</th>\n",
       "      <td>1499</td>\n",
       "      <td>12</td>\n",
       "      <td>21.542197</td>\n",
       "    </tr>\n",
       "  </tbody>\n",
       "</table>\n",
       "<p>2277 rows × 3 columns</p>\n",
       "</div>"
      ],
      "text/plain": [
       "      user_id  month    gb_used\n",
       "0        1000     12   1.856904\n",
       "1        1001      8   6.756982\n",
       "2        1001      9  13.002754\n",
       "3        1001     10  21.807119\n",
       "4        1001     11  18.070605\n",
       "...       ...    ...        ...\n",
       "2272     1498     12  22.595400\n",
       "2273     1499      9  12.680430\n",
       "2274     1499     10  19.035576\n",
       "2275     1499     11  16.419756\n",
       "2276     1499     12  21.542197\n",
       "\n",
       "[2277 rows x 3 columns]"
      ]
     },
     "execution_count": 30,
     "metadata": {},
     "output_type": "execute_result"
    }
   ],
   "source": [
    "# Calcula el volumen del tráfico de Internet usado por cada usuario al mes. Guarda el resultado.\n",
    "\n",
    "internet_monthly = internet.groupby(['user_id', 'month'])['gb_used'].sum().reset_index()\n",
    "internet_monthly "
   ]
  },
  {
   "cell_type": "markdown",
   "metadata": {
    "id": "VDfYXnj80q1H"
   },
   "source": [
    "## Juntar datos mensuales y calcular tarifa total\n",
    "\n",
    "Ahora juntemos todos los datos agregados en un DataFrame, de manera que haya un registro único con lo que consumió cada usuario durante un mes determinado.\n",
    "\n",
    "Ya tenemos la información de las llamadas junta, así que usando un par de veces el método `.merge()` podemos juntar la información de los mensajes y la navegación."
   ]
  },
  {
   "cell_type": "code",
   "execution_count": 31,
   "metadata": {
    "id": "FW99ykyf0q1H"
   },
   "outputs": [
    {
     "data": {
      "text/html": [
       "<div>\n",
       "<style scoped>\n",
       "    .dataframe tbody tr th:only-of-type {\n",
       "        vertical-align: middle;\n",
       "    }\n",
       "\n",
       "    .dataframe tbody tr th {\n",
       "        vertical-align: top;\n",
       "    }\n",
       "\n",
       "    .dataframe thead th {\n",
       "        text-align: right;\n",
       "    }\n",
       "</style>\n",
       "<table border=\"1\" class=\"dataframe\">\n",
       "  <thead>\n",
       "    <tr style=\"text-align: right;\">\n",
       "      <th></th>\n",
       "      <th>user_id</th>\n",
       "      <th>month</th>\n",
       "      <th>total_calls</th>\n",
       "      <th>total_mins</th>\n",
       "      <th>total_msgs</th>\n",
       "      <th>gb_used</th>\n",
       "    </tr>\n",
       "  </thead>\n",
       "  <tbody>\n",
       "    <tr>\n",
       "      <th>0</th>\n",
       "      <td>1000</td>\n",
       "      <td>12</td>\n",
       "      <td>16.0</td>\n",
       "      <td>124.0</td>\n",
       "      <td>11.0</td>\n",
       "      <td>1.856904</td>\n",
       "    </tr>\n",
       "    <tr>\n",
       "      <th>1</th>\n",
       "      <td>1001</td>\n",
       "      <td>8</td>\n",
       "      <td>27.0</td>\n",
       "      <td>182.0</td>\n",
       "      <td>30.0</td>\n",
       "      <td>6.756982</td>\n",
       "    </tr>\n",
       "    <tr>\n",
       "      <th>2</th>\n",
       "      <td>1001</td>\n",
       "      <td>9</td>\n",
       "      <td>49.0</td>\n",
       "      <td>315.0</td>\n",
       "      <td>44.0</td>\n",
       "      <td>13.002754</td>\n",
       "    </tr>\n",
       "    <tr>\n",
       "      <th>3</th>\n",
       "      <td>1001</td>\n",
       "      <td>10</td>\n",
       "      <td>65.0</td>\n",
       "      <td>393.0</td>\n",
       "      <td>53.0</td>\n",
       "      <td>21.807119</td>\n",
       "    </tr>\n",
       "    <tr>\n",
       "      <th>4</th>\n",
       "      <td>1001</td>\n",
       "      <td>11</td>\n",
       "      <td>64.0</td>\n",
       "      <td>426.0</td>\n",
       "      <td>36.0</td>\n",
       "      <td>18.070605</td>\n",
       "    </tr>\n",
       "    <tr>\n",
       "      <th>...</th>\n",
       "      <td>...</td>\n",
       "      <td>...</td>\n",
       "      <td>...</td>\n",
       "      <td>...</td>\n",
       "      <td>...</td>\n",
       "      <td>...</td>\n",
       "    </tr>\n",
       "    <tr>\n",
       "      <th>2288</th>\n",
       "      <td>1349</td>\n",
       "      <td>12</td>\n",
       "      <td>NaN</td>\n",
       "      <td>NaN</td>\n",
       "      <td>61.0</td>\n",
       "      <td>12.734287</td>\n",
       "    </tr>\n",
       "    <tr>\n",
       "      <th>2289</th>\n",
       "      <td>1361</td>\n",
       "      <td>5</td>\n",
       "      <td>NaN</td>\n",
       "      <td>NaN</td>\n",
       "      <td>2.0</td>\n",
       "      <td>1.484072</td>\n",
       "    </tr>\n",
       "    <tr>\n",
       "      <th>2290</th>\n",
       "      <td>1482</td>\n",
       "      <td>10</td>\n",
       "      <td>NaN</td>\n",
       "      <td>NaN</td>\n",
       "      <td>2.0</td>\n",
       "      <td>NaN</td>\n",
       "    </tr>\n",
       "    <tr>\n",
       "      <th>2291</th>\n",
       "      <td>1108</td>\n",
       "      <td>12</td>\n",
       "      <td>NaN</td>\n",
       "      <td>NaN</td>\n",
       "      <td>NaN</td>\n",
       "      <td>0.227705</td>\n",
       "    </tr>\n",
       "    <tr>\n",
       "      <th>2292</th>\n",
       "      <td>1311</td>\n",
       "      <td>6</td>\n",
       "      <td>NaN</td>\n",
       "      <td>NaN</td>\n",
       "      <td>NaN</td>\n",
       "      <td>1.463701</td>\n",
       "    </tr>\n",
       "  </tbody>\n",
       "</table>\n",
       "<p>2293 rows × 6 columns</p>\n",
       "</div>"
      ],
      "text/plain": [
       "      user_id  month  total_calls  total_mins  total_msgs    gb_used\n",
       "0        1000     12         16.0       124.0        11.0   1.856904\n",
       "1        1001      8         27.0       182.0        30.0   6.756982\n",
       "2        1001      9         49.0       315.0        44.0  13.002754\n",
       "3        1001     10         65.0       393.0        53.0  21.807119\n",
       "4        1001     11         64.0       426.0        36.0  18.070605\n",
       "...       ...    ...          ...         ...         ...        ...\n",
       "2288     1349     12          NaN         NaN        61.0  12.734287\n",
       "2289     1361      5          NaN         NaN         2.0   1.484072\n",
       "2290     1482     10          NaN         NaN         2.0        NaN\n",
       "2291     1108     12          NaN         NaN         NaN   0.227705\n",
       "2292     1311      6          NaN         NaN         NaN   1.463701\n",
       "\n",
       "[2293 rows x 6 columns]"
      ]
     },
     "execution_count": 31,
     "metadata": {},
     "output_type": "execute_result"
    }
   ],
   "source": [
    "# Fusiona los datos de llamadas, minutos, mensajes e Internet con base en user_id y month\n",
    "buffer_df = calls_monthly.merge(msg_monthly, on=['user_id','month'], how='outer')\n",
    "\n",
    "buffer_df = buffer_df.merge(internet_monthly, on=['user_id','month'], how='outer')\n",
    "buffer_df"
   ]
  },
  {
   "cell_type": "code",
   "execution_count": 32,
   "metadata": {},
   "outputs": [
    {
     "name": "stdout",
     "output_type": "stream",
     "text": [
      "<class 'pandas.core.frame.DataFrame'>\n",
      "Int64Index: 2293 entries, 0 to 2292\n",
      "Data columns (total 6 columns):\n",
      " #   Column       Non-Null Count  Dtype  \n",
      "---  ------       --------------  -----  \n",
      " 0   user_id      2293 non-null   int64  \n",
      " 1   month        2293 non-null   int64  \n",
      " 2   total_calls  2258 non-null   float64\n",
      " 3   total_mins   2258 non-null   float64\n",
      " 4   total_msgs   1806 non-null   float64\n",
      " 5   gb_used      2277 non-null   float64\n",
      "dtypes: float64(4), int64(2)\n",
      "memory usage: 125.4 KB\n"
     ]
    }
   ],
   "source": [
    "buffer_df.info()"
   ]
  },
  {
   "cell_type": "markdown",
   "metadata": {},
   "source": [
    "\n",
    "Al realizar un **full (outer) join**, se generaron valores ausentes para los meses en los que un usuario no presentó consumo en alguna de las categorías. Como consecuencia adicional, en las columnas afectadas, pandas convierte los tipos de datos originalmente `int` a `float`.  \n",
    "\n",
    "Podemos corregir estos inconvenientes reemplazando los valores ausentes por cero, ya que sabemos que en esas categorías no hay valores ausentes previos, y sí nos interesa estudiar el comportamiento de todos los usuarios, no sólo de aquellos que tuvieron consumos en todas las categorías necesariamente. Finalmente regresando las columnas a tipo `int`.  \n",
    "\n",
    "Además podemos, ahora sí, **redondear el consumo de gigas mensual** para calcular la **tarifa final** correctamente.\n",
    "\n",
    " "
   ]
  },
  {
   "cell_type": "code",
   "execution_count": 33,
   "metadata": {},
   "outputs": [
    {
     "data": {
      "text/html": [
       "<div>\n",
       "<style scoped>\n",
       "    .dataframe tbody tr th:only-of-type {\n",
       "        vertical-align: middle;\n",
       "    }\n",
       "\n",
       "    .dataframe tbody tr th {\n",
       "        vertical-align: top;\n",
       "    }\n",
       "\n",
       "    .dataframe thead th {\n",
       "        text-align: right;\n",
       "    }\n",
       "</style>\n",
       "<table border=\"1\" class=\"dataframe\">\n",
       "  <thead>\n",
       "    <tr style=\"text-align: right;\">\n",
       "      <th></th>\n",
       "      <th>user_id</th>\n",
       "      <th>month</th>\n",
       "      <th>total_calls</th>\n",
       "      <th>total_mins</th>\n",
       "      <th>total_msgs</th>\n",
       "      <th>gb_used</th>\n",
       "      <th>total_gb</th>\n",
       "    </tr>\n",
       "  </thead>\n",
       "  <tbody>\n",
       "    <tr>\n",
       "      <th>0</th>\n",
       "      <td>1000</td>\n",
       "      <td>12</td>\n",
       "      <td>16</td>\n",
       "      <td>124</td>\n",
       "      <td>11</td>\n",
       "      <td>1.856904</td>\n",
       "      <td>2</td>\n",
       "    </tr>\n",
       "    <tr>\n",
       "      <th>1</th>\n",
       "      <td>1001</td>\n",
       "      <td>8</td>\n",
       "      <td>27</td>\n",
       "      <td>182</td>\n",
       "      <td>30</td>\n",
       "      <td>6.756982</td>\n",
       "      <td>7</td>\n",
       "    </tr>\n",
       "    <tr>\n",
       "      <th>2</th>\n",
       "      <td>1001</td>\n",
       "      <td>9</td>\n",
       "      <td>49</td>\n",
       "      <td>315</td>\n",
       "      <td>44</td>\n",
       "      <td>13.002754</td>\n",
       "      <td>14</td>\n",
       "    </tr>\n",
       "    <tr>\n",
       "      <th>3</th>\n",
       "      <td>1001</td>\n",
       "      <td>10</td>\n",
       "      <td>65</td>\n",
       "      <td>393</td>\n",
       "      <td>53</td>\n",
       "      <td>21.807119</td>\n",
       "      <td>22</td>\n",
       "    </tr>\n",
       "    <tr>\n",
       "      <th>4</th>\n",
       "      <td>1001</td>\n",
       "      <td>11</td>\n",
       "      <td>64</td>\n",
       "      <td>426</td>\n",
       "      <td>36</td>\n",
       "      <td>18.070605</td>\n",
       "      <td>19</td>\n",
       "    </tr>\n",
       "    <tr>\n",
       "      <th>...</th>\n",
       "      <td>...</td>\n",
       "      <td>...</td>\n",
       "      <td>...</td>\n",
       "      <td>...</td>\n",
       "      <td>...</td>\n",
       "      <td>...</td>\n",
       "      <td>...</td>\n",
       "    </tr>\n",
       "    <tr>\n",
       "      <th>2288</th>\n",
       "      <td>1349</td>\n",
       "      <td>12</td>\n",
       "      <td>0</td>\n",
       "      <td>0</td>\n",
       "      <td>61</td>\n",
       "      <td>12.734287</td>\n",
       "      <td>13</td>\n",
       "    </tr>\n",
       "    <tr>\n",
       "      <th>2289</th>\n",
       "      <td>1361</td>\n",
       "      <td>5</td>\n",
       "      <td>0</td>\n",
       "      <td>0</td>\n",
       "      <td>2</td>\n",
       "      <td>1.484072</td>\n",
       "      <td>2</td>\n",
       "    </tr>\n",
       "    <tr>\n",
       "      <th>2290</th>\n",
       "      <td>1482</td>\n",
       "      <td>10</td>\n",
       "      <td>0</td>\n",
       "      <td>0</td>\n",
       "      <td>2</td>\n",
       "      <td>0.000000</td>\n",
       "      <td>0</td>\n",
       "    </tr>\n",
       "    <tr>\n",
       "      <th>2291</th>\n",
       "      <td>1108</td>\n",
       "      <td>12</td>\n",
       "      <td>0</td>\n",
       "      <td>0</td>\n",
       "      <td>0</td>\n",
       "      <td>0.227705</td>\n",
       "      <td>1</td>\n",
       "    </tr>\n",
       "    <tr>\n",
       "      <th>2292</th>\n",
       "      <td>1311</td>\n",
       "      <td>6</td>\n",
       "      <td>0</td>\n",
       "      <td>0</td>\n",
       "      <td>0</td>\n",
       "      <td>1.463701</td>\n",
       "      <td>2</td>\n",
       "    </tr>\n",
       "  </tbody>\n",
       "</table>\n",
       "<p>2293 rows × 7 columns</p>\n",
       "</div>"
      ],
      "text/plain": [
       "      user_id  month  total_calls  total_mins  total_msgs    gb_used  total_gb\n",
       "0        1000     12           16         124          11   1.856904         2\n",
       "1        1001      8           27         182          30   6.756982         7\n",
       "2        1001      9           49         315          44  13.002754        14\n",
       "3        1001     10           65         393          53  21.807119        22\n",
       "4        1001     11           64         426          36  18.070605        19\n",
       "...       ...    ...          ...         ...         ...        ...       ...\n",
       "2288     1349     12            0           0          61  12.734287        13\n",
       "2289     1361      5            0           0           2   1.484072         2\n",
       "2290     1482     10            0           0           2   0.000000         0\n",
       "2291     1108     12            0           0           0   0.227705         1\n",
       "2292     1311      6            0           0           0   1.463701         2\n",
       "\n",
       "[2293 rows x 7 columns]"
      ]
     },
     "execution_count": 33,
     "metadata": {},
     "output_type": "execute_result"
    }
   ],
   "source": [
    "# Remplazar valores ausentes por ceros y cambiar a tipo int\n",
    "for column in ['total_calls', 'total_mins', 'total_msgs']:\n",
    "    buffer_df[column] = buffer_df[column].fillna(0).astype(int)\n",
    "\n",
    "buffer_df['gb_used'].fillna(0, inplace=True) # Mantenemos la columna de gygas sin redondear\n",
    "\n",
    "# Agregamos columna con gygas redondeados\n",
    "buffer_df['total_gb'] = np.ceil(buffer_df['gb_used']).astype(int)\n",
    "buffer_df"
   ]
  },
  {
   "cell_type": "markdown",
   "metadata": {},
   "source": [
    "Finalmente añadimos la información del plan que contrató cada usario. \n",
    "Para ello hacemos primero un merge con la tabla `users`, incluyendo sólo la información de interés: el plan y la ciudad (para un análisis posterior).\n",
    "Esta vez usamos un left join, ya que no nos interesan los usuarios que no han hecho ningún consumo.\n",
    "\n",
    "Teniendo una columna con el plan en nuestro DataFrame, podemos finalmente hacer otro merge con la tabla `plans` y tener la información completa para calcular el cargo total por periodo de cada usuario."
   ]
  },
  {
   "cell_type": "code",
   "execution_count": 34,
   "metadata": {
    "id": "0dNOXHag0q1H"
   },
   "outputs": [],
   "source": [
    "# Añade la información del plan de cada usuario (TABLA FINAL)\n",
    "master_df = buffer_df.merge(users[['user_id', 'plan', 'city']], on='user_id', how='left')\n",
    "\n",
    "# Añade la información de la tarifa\n",
    "master_df = master_df.merge(plans, left_on='plan', right_on='plan_name')\n",
    "\n",
    "# Borrar columna repetida\n",
    "master_df.drop(columns='plan_name', inplace=True)"
   ]
  },
  {
   "cell_type": "markdown",
   "metadata": {
    "id": "1IwGo4wg0q1I"
   },
   "source": [
    "Finalmente calculamos el cargo mensual por usuario con la siguiente fórmula:\n",
    "\n",
    "$$\n",
    "\\begin{aligned}\n",
    "\\text{total\\_charge} = &\\ \\text{usd\\_monthly\\_pay} \\\\\n",
    "&+ \\max(0, \\text{total\\_mins} - \\text{minutes\\_included}) \\times \\text{usd\\_per\\_minute} \\\\\n",
    "&+ \\max(0, \\text{total\\_msgs} - \\text{messages\\_included}) \\times \\text{usd\\_per\\_message} \\\\\n",
    "&+ \\max(0, \\text{total\\_gb} - \\text{gb\\_included}) \\times \\text{usd\\_per\\_gb}\n",
    "\\end{aligned}\n",
    "$$\n",
    "\n",
    "En vez de usar la función `max()`, en pandas podemos usar el método `.clip(lower=0)` para objetos Series."
   ]
  },
  {
   "cell_type": "code",
   "execution_count": 35,
   "metadata": {
    "id": "5FGCf_c60q1I",
    "scrolled": true
   },
   "outputs": [
    {
     "data": {
      "text/html": [
       "<div>\n",
       "<style scoped>\n",
       "    .dataframe tbody tr th:only-of-type {\n",
       "        vertical-align: middle;\n",
       "    }\n",
       "\n",
       "    .dataframe tbody tr th {\n",
       "        vertical-align: top;\n",
       "    }\n",
       "\n",
       "    .dataframe thead th {\n",
       "        text-align: right;\n",
       "    }\n",
       "</style>\n",
       "<table border=\"1\" class=\"dataframe\">\n",
       "  <thead>\n",
       "    <tr style=\"text-align: right;\">\n",
       "      <th></th>\n",
       "      <th>user_id</th>\n",
       "      <th>month</th>\n",
       "      <th>total_calls</th>\n",
       "      <th>total_mins</th>\n",
       "      <th>total_msgs</th>\n",
       "      <th>gb_used</th>\n",
       "      <th>total_gb</th>\n",
       "      <th>plan</th>\n",
       "      <th>city</th>\n",
       "      <th>messages_included</th>\n",
       "      <th>mb_per_month_included</th>\n",
       "      <th>minutes_included</th>\n",
       "      <th>usd_monthly_pay</th>\n",
       "      <th>usd_per_gb</th>\n",
       "      <th>usd_per_message</th>\n",
       "      <th>usd_per_minute</th>\n",
       "      <th>gb_included</th>\n",
       "      <th>total_charge</th>\n",
       "    </tr>\n",
       "  </thead>\n",
       "  <tbody>\n",
       "    <tr>\n",
       "      <th>0</th>\n",
       "      <td>1000</td>\n",
       "      <td>12</td>\n",
       "      <td>16</td>\n",
       "      <td>124</td>\n",
       "      <td>11</td>\n",
       "      <td>1.856904</td>\n",
       "      <td>2</td>\n",
       "      <td>ultimate</td>\n",
       "      <td>Atlanta-Sandy Springs-Roswell, GA MSA</td>\n",
       "      <td>1000</td>\n",
       "      <td>30720</td>\n",
       "      <td>3000</td>\n",
       "      <td>70</td>\n",
       "      <td>7</td>\n",
       "      <td>0.01</td>\n",
       "      <td>0.01</td>\n",
       "      <td>30</td>\n",
       "      <td>70.00</td>\n",
       "    </tr>\n",
       "    <tr>\n",
       "      <th>1</th>\n",
       "      <td>1006</td>\n",
       "      <td>11</td>\n",
       "      <td>2</td>\n",
       "      <td>10</td>\n",
       "      <td>15</td>\n",
       "      <td>2.019893</td>\n",
       "      <td>3</td>\n",
       "      <td>ultimate</td>\n",
       "      <td>San Francisco-Oakland-Berkeley, CA MSA</td>\n",
       "      <td>1000</td>\n",
       "      <td>30720</td>\n",
       "      <td>3000</td>\n",
       "      <td>70</td>\n",
       "      <td>7</td>\n",
       "      <td>0.01</td>\n",
       "      <td>0.01</td>\n",
       "      <td>30</td>\n",
       "      <td>70.00</td>\n",
       "    </tr>\n",
       "    <tr>\n",
       "      <th>2</th>\n",
       "      <td>1006</td>\n",
       "      <td>12</td>\n",
       "      <td>9</td>\n",
       "      <td>59</td>\n",
       "      <td>139</td>\n",
       "      <td>31.366035</td>\n",
       "      <td>32</td>\n",
       "      <td>ultimate</td>\n",
       "      <td>San Francisco-Oakland-Berkeley, CA MSA</td>\n",
       "      <td>1000</td>\n",
       "      <td>30720</td>\n",
       "      <td>3000</td>\n",
       "      <td>70</td>\n",
       "      <td>7</td>\n",
       "      <td>0.01</td>\n",
       "      <td>0.01</td>\n",
       "      <td>30</td>\n",
       "      <td>84.00</td>\n",
       "    </tr>\n",
       "    <tr>\n",
       "      <th>3</th>\n",
       "      <td>1008</td>\n",
       "      <td>10</td>\n",
       "      <td>71</td>\n",
       "      <td>476</td>\n",
       "      <td>21</td>\n",
       "      <td>16.706045</td>\n",
       "      <td>17</td>\n",
       "      <td>ultimate</td>\n",
       "      <td>Orlando-Kissimmee-Sanford, FL MSA</td>\n",
       "      <td>1000</td>\n",
       "      <td>30720</td>\n",
       "      <td>3000</td>\n",
       "      <td>70</td>\n",
       "      <td>7</td>\n",
       "      <td>0.01</td>\n",
       "      <td>0.01</td>\n",
       "      <td>30</td>\n",
       "      <td>70.00</td>\n",
       "    </tr>\n",
       "    <tr>\n",
       "      <th>4</th>\n",
       "      <td>1008</td>\n",
       "      <td>11</td>\n",
       "      <td>63</td>\n",
       "      <td>446</td>\n",
       "      <td>37</td>\n",
       "      <td>23.121797</td>\n",
       "      <td>24</td>\n",
       "      <td>ultimate</td>\n",
       "      <td>Orlando-Kissimmee-Sanford, FL MSA</td>\n",
       "      <td>1000</td>\n",
       "      <td>30720</td>\n",
       "      <td>3000</td>\n",
       "      <td>70</td>\n",
       "      <td>7</td>\n",
       "      <td>0.01</td>\n",
       "      <td>0.01</td>\n",
       "      <td>30</td>\n",
       "      <td>70.00</td>\n",
       "    </tr>\n",
       "    <tr>\n",
       "      <th>...</th>\n",
       "      <td>...</td>\n",
       "      <td>...</td>\n",
       "      <td>...</td>\n",
       "      <td>...</td>\n",
       "      <td>...</td>\n",
       "      <td>...</td>\n",
       "      <td>...</td>\n",
       "      <td>...</td>\n",
       "      <td>...</td>\n",
       "      <td>...</td>\n",
       "      <td>...</td>\n",
       "      <td>...</td>\n",
       "      <td>...</td>\n",
       "      <td>...</td>\n",
       "      <td>...</td>\n",
       "      <td>...</td>\n",
       "      <td>...</td>\n",
       "      <td>...</td>\n",
       "    </tr>\n",
       "    <tr>\n",
       "      <th>2288</th>\n",
       "      <td>1194</td>\n",
       "      <td>12</td>\n",
       "      <td>0</td>\n",
       "      <td>0</td>\n",
       "      <td>56</td>\n",
       "      <td>30.359854</td>\n",
       "      <td>31</td>\n",
       "      <td>surf</td>\n",
       "      <td>San Jose-Sunnyvale-Santa Clara, CA MSA</td>\n",
       "      <td>50</td>\n",
       "      <td>15360</td>\n",
       "      <td>500</td>\n",
       "      <td>20</td>\n",
       "      <td>10</td>\n",
       "      <td>0.03</td>\n",
       "      <td>0.03</td>\n",
       "      <td>15</td>\n",
       "      <td>180.18</td>\n",
       "    </tr>\n",
       "    <tr>\n",
       "      <th>2289</th>\n",
       "      <td>1349</td>\n",
       "      <td>10</td>\n",
       "      <td>0</td>\n",
       "      <td>0</td>\n",
       "      <td>76</td>\n",
       "      <td>12.786670</td>\n",
       "      <td>13</td>\n",
       "      <td>surf</td>\n",
       "      <td>Boston-Cambridge-Newton, MA-NH MSA</td>\n",
       "      <td>50</td>\n",
       "      <td>15360</td>\n",
       "      <td>500</td>\n",
       "      <td>20</td>\n",
       "      <td>10</td>\n",
       "      <td>0.03</td>\n",
       "      <td>0.03</td>\n",
       "      <td>15</td>\n",
       "      <td>20.78</td>\n",
       "    </tr>\n",
       "    <tr>\n",
       "      <th>2290</th>\n",
       "      <td>1349</td>\n",
       "      <td>11</td>\n",
       "      <td>0</td>\n",
       "      <td>0</td>\n",
       "      <td>72</td>\n",
       "      <td>16.726816</td>\n",
       "      <td>17</td>\n",
       "      <td>surf</td>\n",
       "      <td>Boston-Cambridge-Newton, MA-NH MSA</td>\n",
       "      <td>50</td>\n",
       "      <td>15360</td>\n",
       "      <td>500</td>\n",
       "      <td>20</td>\n",
       "      <td>10</td>\n",
       "      <td>0.03</td>\n",
       "      <td>0.03</td>\n",
       "      <td>15</td>\n",
       "      <td>40.66</td>\n",
       "    </tr>\n",
       "    <tr>\n",
       "      <th>2291</th>\n",
       "      <td>1349</td>\n",
       "      <td>12</td>\n",
       "      <td>0</td>\n",
       "      <td>0</td>\n",
       "      <td>61</td>\n",
       "      <td>12.734287</td>\n",
       "      <td>13</td>\n",
       "      <td>surf</td>\n",
       "      <td>Boston-Cambridge-Newton, MA-NH MSA</td>\n",
       "      <td>50</td>\n",
       "      <td>15360</td>\n",
       "      <td>500</td>\n",
       "      <td>20</td>\n",
       "      <td>10</td>\n",
       "      <td>0.03</td>\n",
       "      <td>0.03</td>\n",
       "      <td>15</td>\n",
       "      <td>20.33</td>\n",
       "    </tr>\n",
       "    <tr>\n",
       "      <th>2292</th>\n",
       "      <td>1361</td>\n",
       "      <td>5</td>\n",
       "      <td>0</td>\n",
       "      <td>0</td>\n",
       "      <td>2</td>\n",
       "      <td>1.484072</td>\n",
       "      <td>2</td>\n",
       "      <td>surf</td>\n",
       "      <td>Birmingham-Hoover, AL MSA</td>\n",
       "      <td>50</td>\n",
       "      <td>15360</td>\n",
       "      <td>500</td>\n",
       "      <td>20</td>\n",
       "      <td>10</td>\n",
       "      <td>0.03</td>\n",
       "      <td>0.03</td>\n",
       "      <td>15</td>\n",
       "      <td>20.00</td>\n",
       "    </tr>\n",
       "  </tbody>\n",
       "</table>\n",
       "<p>2293 rows × 18 columns</p>\n",
       "</div>"
      ],
      "text/plain": [
       "      user_id  month  total_calls  total_mins  total_msgs    gb_used  \\\n",
       "0        1000     12           16         124          11   1.856904   \n",
       "1        1006     11            2          10          15   2.019893   \n",
       "2        1006     12            9          59         139  31.366035   \n",
       "3        1008     10           71         476          21  16.706045   \n",
       "4        1008     11           63         446          37  23.121797   \n",
       "...       ...    ...          ...         ...         ...        ...   \n",
       "2288     1194     12            0           0          56  30.359854   \n",
       "2289     1349     10            0           0          76  12.786670   \n",
       "2290     1349     11            0           0          72  16.726816   \n",
       "2291     1349     12            0           0          61  12.734287   \n",
       "2292     1361      5            0           0           2   1.484072   \n",
       "\n",
       "      total_gb      plan                                    city  \\\n",
       "0            2  ultimate   Atlanta-Sandy Springs-Roswell, GA MSA   \n",
       "1            3  ultimate  San Francisco-Oakland-Berkeley, CA MSA   \n",
       "2           32  ultimate  San Francisco-Oakland-Berkeley, CA MSA   \n",
       "3           17  ultimate       Orlando-Kissimmee-Sanford, FL MSA   \n",
       "4           24  ultimate       Orlando-Kissimmee-Sanford, FL MSA   \n",
       "...        ...       ...                                     ...   \n",
       "2288        31      surf  San Jose-Sunnyvale-Santa Clara, CA MSA   \n",
       "2289        13      surf      Boston-Cambridge-Newton, MA-NH MSA   \n",
       "2290        17      surf      Boston-Cambridge-Newton, MA-NH MSA   \n",
       "2291        13      surf      Boston-Cambridge-Newton, MA-NH MSA   \n",
       "2292         2      surf               Birmingham-Hoover, AL MSA   \n",
       "\n",
       "      messages_included  mb_per_month_included  minutes_included  \\\n",
       "0                  1000                  30720              3000   \n",
       "1                  1000                  30720              3000   \n",
       "2                  1000                  30720              3000   \n",
       "3                  1000                  30720              3000   \n",
       "4                  1000                  30720              3000   \n",
       "...                 ...                    ...               ...   \n",
       "2288                 50                  15360               500   \n",
       "2289                 50                  15360               500   \n",
       "2290                 50                  15360               500   \n",
       "2291                 50                  15360               500   \n",
       "2292                 50                  15360               500   \n",
       "\n",
       "      usd_monthly_pay  usd_per_gb  usd_per_message  usd_per_minute  \\\n",
       "0                  70           7             0.01            0.01   \n",
       "1                  70           7             0.01            0.01   \n",
       "2                  70           7             0.01            0.01   \n",
       "3                  70           7             0.01            0.01   \n",
       "4                  70           7             0.01            0.01   \n",
       "...               ...         ...              ...             ...   \n",
       "2288               20          10             0.03            0.03   \n",
       "2289               20          10             0.03            0.03   \n",
       "2290               20          10             0.03            0.03   \n",
       "2291               20          10             0.03            0.03   \n",
       "2292               20          10             0.03            0.03   \n",
       "\n",
       "      gb_included  total_charge  \n",
       "0              30         70.00  \n",
       "1              30         70.00  \n",
       "2              30         84.00  \n",
       "3              30         70.00  \n",
       "4              30         70.00  \n",
       "...           ...           ...  \n",
       "2288           15        180.18  \n",
       "2289           15         20.78  \n",
       "2290           15         40.66  \n",
       "2291           15         20.33  \n",
       "2292           15         20.00  \n",
       "\n",
       "[2293 rows x 18 columns]"
      ]
     },
     "execution_count": 35,
     "metadata": {},
     "output_type": "execute_result"
    }
   ],
   "source": [
    "# Calcula el ingreso mensual para cada usuario\n",
    "\n",
    "# Calcular excedente por categoría\n",
    "overage_mins = (master_df['total_mins'] - master_df['minutes_included']).clip(lower=0)\n",
    "overage_msgs = (master_df['total_msgs'] - master_df['messages_included']).clip(lower=0)\n",
    "overage_gb   = (master_df['total_gb'] - master_df['gb_included']).clip(lower=0)\n",
    "\n",
    "# Calcular el cargo total\n",
    "master_df['total_charge'] = (\n",
    "    master_df['usd_monthly_pay'] \n",
    "    + overage_mins * master_df['usd_per_minute']\n",
    "    + overage_msgs * master_df['usd_per_message']\n",
    "    + overage_gb   * master_df['usd_per_gb']\n",
    ")\n",
    "\n",
    "master_df"
   ]
  },
  {
   "cell_type": "markdown",
   "metadata": {},
   "source": [
    "Ya que hemos calculado el cargo mensual total, no es necesario que sigamos manteniendo la información detallada de las tarifas en la tabla."
   ]
  },
  {
   "cell_type": "code",
   "execution_count": 36,
   "metadata": {},
   "outputs": [
    {
     "name": "stdout",
     "output_type": "stream",
     "text": [
      "<class 'pandas.core.frame.DataFrame'>\n",
      "Int64Index: 2293 entries, 0 to 2292\n",
      "Data columns (total 10 columns):\n",
      " #   Column        Non-Null Count  Dtype  \n",
      "---  ------        --------------  -----  \n",
      " 0   user_id       2293 non-null   int64  \n",
      " 1   month         2293 non-null   int64  \n",
      " 2   total_calls   2293 non-null   int64  \n",
      " 3   total_mins    2293 non-null   int64  \n",
      " 4   total_msgs    2293 non-null   int64  \n",
      " 5   gb_used       2293 non-null   float64\n",
      " 6   total_gb      2293 non-null   int64  \n",
      " 7   plan          2293 non-null   object \n",
      " 8   city          2293 non-null   object \n",
      " 9   total_charge  2293 non-null   float64\n",
      "dtypes: float64(2), int64(6), object(2)\n",
      "memory usage: 197.1+ KB\n"
     ]
    }
   ],
   "source": [
    "# Quitar la información general de las tarifas \n",
    "master_df.drop(columns=['messages_included', 'mb_per_month_included',\n",
    "                        'minutes_included', 'usd_monthly_pay',\n",
    "                        'usd_per_gb', 'usd_per_message',\n",
    "                        'usd_per_minute', 'gb_included'],\n",
    "              inplace=True)\n",
    "master_df.info()"
   ]
  },
  {
   "cell_type": "markdown",
   "metadata": {
    "id": "-jtyHzJb0q1I"
   },
   "source": [
    "# Estudia el comportamiento de usuario"
   ]
  },
  {
   "cell_type": "markdown",
   "metadata": {
    "id": "AxU3Y0N70q1J"
   },
   "source": [
    "Calcularemos las estadísticas descriptivas para los datos agregados y fusionados que nos sean útiles y que muestren un panorama general captado por los datos. Aunado a gráficos útiles para facilitar la comprensión. Dado que la tarea principal es comparar las tarifas y decidir cuál es más rentable, dividimos todas las estadísticas y gráficas por tarifa.\n"
   ]
  },
  {
   "cell_type": "code",
   "execution_count": 37,
   "metadata": {},
   "outputs": [],
   "source": [
    "# Importamos librerías para graficar\n",
    "import seaborn as sns\n",
    "import matplotlib.pyplot as plt\n"
   ]
  },
  {
   "cell_type": "markdown",
   "metadata": {},
   "source": [
    "Para tener más contexto del siguiente análisis, observemos cómo la cantidad de usuarios por mes fue aumentando para ambos planes."
   ]
  },
  {
   "cell_type": "code",
   "execution_count": 38,
   "metadata": {
    "scrolled": true
   },
   "outputs": [
    {
     "data": {
      "text/html": [
       "<div>\n",
       "<style scoped>\n",
       "    .dataframe tbody tr th:only-of-type {\n",
       "        vertical-align: middle;\n",
       "    }\n",
       "\n",
       "    .dataframe tbody tr th {\n",
       "        vertical-align: top;\n",
       "    }\n",
       "\n",
       "    .dataframe thead th {\n",
       "        text-align: right;\n",
       "    }\n",
       "</style>\n",
       "<table border=\"1\" class=\"dataframe\">\n",
       "  <thead>\n",
       "    <tr style=\"text-align: right;\">\n",
       "      <th></th>\n",
       "      <th>user_id</th>\n",
       "      <th>month</th>\n",
       "      <th>total_calls</th>\n",
       "      <th>total_mins</th>\n",
       "      <th>total_msgs</th>\n",
       "      <th>gb_used</th>\n",
       "      <th>total_gb</th>\n",
       "      <th>plan</th>\n",
       "      <th>city</th>\n",
       "      <th>total_charge</th>\n",
       "    </tr>\n",
       "  </thead>\n",
       "  <tbody>\n",
       "    <tr>\n",
       "      <th>0</th>\n",
       "      <td>1000</td>\n",
       "      <td>12</td>\n",
       "      <td>16</td>\n",
       "      <td>124</td>\n",
       "      <td>11</td>\n",
       "      <td>1.856904</td>\n",
       "      <td>2</td>\n",
       "      <td>ultimate</td>\n",
       "      <td>Atlanta-Sandy Springs-Roswell, GA MSA</td>\n",
       "      <td>70.00</td>\n",
       "    </tr>\n",
       "    <tr>\n",
       "      <th>1</th>\n",
       "      <td>1006</td>\n",
       "      <td>11</td>\n",
       "      <td>2</td>\n",
       "      <td>10</td>\n",
       "      <td>15</td>\n",
       "      <td>2.019893</td>\n",
       "      <td>3</td>\n",
       "      <td>ultimate</td>\n",
       "      <td>San Francisco-Oakland-Berkeley, CA MSA</td>\n",
       "      <td>70.00</td>\n",
       "    </tr>\n",
       "    <tr>\n",
       "      <th>2</th>\n",
       "      <td>1006</td>\n",
       "      <td>12</td>\n",
       "      <td>9</td>\n",
       "      <td>59</td>\n",
       "      <td>139</td>\n",
       "      <td>31.366035</td>\n",
       "      <td>32</td>\n",
       "      <td>ultimate</td>\n",
       "      <td>San Francisco-Oakland-Berkeley, CA MSA</td>\n",
       "      <td>84.00</td>\n",
       "    </tr>\n",
       "    <tr>\n",
       "      <th>3</th>\n",
       "      <td>1008</td>\n",
       "      <td>10</td>\n",
       "      <td>71</td>\n",
       "      <td>476</td>\n",
       "      <td>21</td>\n",
       "      <td>16.706045</td>\n",
       "      <td>17</td>\n",
       "      <td>ultimate</td>\n",
       "      <td>Orlando-Kissimmee-Sanford, FL MSA</td>\n",
       "      <td>70.00</td>\n",
       "    </tr>\n",
       "    <tr>\n",
       "      <th>4</th>\n",
       "      <td>1008</td>\n",
       "      <td>11</td>\n",
       "      <td>63</td>\n",
       "      <td>446</td>\n",
       "      <td>37</td>\n",
       "      <td>23.121797</td>\n",
       "      <td>24</td>\n",
       "      <td>ultimate</td>\n",
       "      <td>Orlando-Kissimmee-Sanford, FL MSA</td>\n",
       "      <td>70.00</td>\n",
       "    </tr>\n",
       "    <tr>\n",
       "      <th>...</th>\n",
       "      <td>...</td>\n",
       "      <td>...</td>\n",
       "      <td>...</td>\n",
       "      <td>...</td>\n",
       "      <td>...</td>\n",
       "      <td>...</td>\n",
       "      <td>...</td>\n",
       "      <td>...</td>\n",
       "      <td>...</td>\n",
       "      <td>...</td>\n",
       "    </tr>\n",
       "    <tr>\n",
       "      <th>2288</th>\n",
       "      <td>1194</td>\n",
       "      <td>12</td>\n",
       "      <td>0</td>\n",
       "      <td>0</td>\n",
       "      <td>56</td>\n",
       "      <td>30.359854</td>\n",
       "      <td>31</td>\n",
       "      <td>surf</td>\n",
       "      <td>San Jose-Sunnyvale-Santa Clara, CA MSA</td>\n",
       "      <td>180.18</td>\n",
       "    </tr>\n",
       "    <tr>\n",
       "      <th>2289</th>\n",
       "      <td>1349</td>\n",
       "      <td>10</td>\n",
       "      <td>0</td>\n",
       "      <td>0</td>\n",
       "      <td>76</td>\n",
       "      <td>12.786670</td>\n",
       "      <td>13</td>\n",
       "      <td>surf</td>\n",
       "      <td>Boston-Cambridge-Newton, MA-NH MSA</td>\n",
       "      <td>20.78</td>\n",
       "    </tr>\n",
       "    <tr>\n",
       "      <th>2290</th>\n",
       "      <td>1349</td>\n",
       "      <td>11</td>\n",
       "      <td>0</td>\n",
       "      <td>0</td>\n",
       "      <td>72</td>\n",
       "      <td>16.726816</td>\n",
       "      <td>17</td>\n",
       "      <td>surf</td>\n",
       "      <td>Boston-Cambridge-Newton, MA-NH MSA</td>\n",
       "      <td>40.66</td>\n",
       "    </tr>\n",
       "    <tr>\n",
       "      <th>2291</th>\n",
       "      <td>1349</td>\n",
       "      <td>12</td>\n",
       "      <td>0</td>\n",
       "      <td>0</td>\n",
       "      <td>61</td>\n",
       "      <td>12.734287</td>\n",
       "      <td>13</td>\n",
       "      <td>surf</td>\n",
       "      <td>Boston-Cambridge-Newton, MA-NH MSA</td>\n",
       "      <td>20.33</td>\n",
       "    </tr>\n",
       "    <tr>\n",
       "      <th>2292</th>\n",
       "      <td>1361</td>\n",
       "      <td>5</td>\n",
       "      <td>0</td>\n",
       "      <td>0</td>\n",
       "      <td>2</td>\n",
       "      <td>1.484072</td>\n",
       "      <td>2</td>\n",
       "      <td>surf</td>\n",
       "      <td>Birmingham-Hoover, AL MSA</td>\n",
       "      <td>20.00</td>\n",
       "    </tr>\n",
       "  </tbody>\n",
       "</table>\n",
       "<p>2293 rows × 10 columns</p>\n",
       "</div>"
      ],
      "text/plain": [
       "      user_id  month  total_calls  total_mins  total_msgs    gb_used  \\\n",
       "0        1000     12           16         124          11   1.856904   \n",
       "1        1006     11            2          10          15   2.019893   \n",
       "2        1006     12            9          59         139  31.366035   \n",
       "3        1008     10           71         476          21  16.706045   \n",
       "4        1008     11           63         446          37  23.121797   \n",
       "...       ...    ...          ...         ...         ...        ...   \n",
       "2288     1194     12            0           0          56  30.359854   \n",
       "2289     1349     10            0           0          76  12.786670   \n",
       "2290     1349     11            0           0          72  16.726816   \n",
       "2291     1349     12            0           0          61  12.734287   \n",
       "2292     1361      5            0           0           2   1.484072   \n",
       "\n",
       "      total_gb      plan                                    city  total_charge  \n",
       "0            2  ultimate   Atlanta-Sandy Springs-Roswell, GA MSA         70.00  \n",
       "1            3  ultimate  San Francisco-Oakland-Berkeley, CA MSA         70.00  \n",
       "2           32  ultimate  San Francisco-Oakland-Berkeley, CA MSA         84.00  \n",
       "3           17  ultimate       Orlando-Kissimmee-Sanford, FL MSA         70.00  \n",
       "4           24  ultimate       Orlando-Kissimmee-Sanford, FL MSA         70.00  \n",
       "...        ...       ...                                     ...           ...  \n",
       "2288        31      surf  San Jose-Sunnyvale-Santa Clara, CA MSA        180.18  \n",
       "2289        13      surf      Boston-Cambridge-Newton, MA-NH MSA         20.78  \n",
       "2290        17      surf      Boston-Cambridge-Newton, MA-NH MSA         40.66  \n",
       "2291        13      surf      Boston-Cambridge-Newton, MA-NH MSA         20.33  \n",
       "2292         2      surf               Birmingham-Hoover, AL MSA         20.00  \n",
       "\n",
       "[2293 rows x 10 columns]"
      ]
     },
     "execution_count": 38,
     "metadata": {},
     "output_type": "execute_result"
    }
   ],
   "source": [
    "master_df"
   ]
  },
  {
   "cell_type": "code",
   "execution_count": 39,
   "metadata": {},
   "outputs": [
    {
     "data": {
      "image/png": "[encoded data removed]",
      "text/plain": [
       "<Figure size 640x480 with 1 Axes>"
      ]
     },
     "metadata": {},
     "output_type": "display_data"
    },
    {
     "data": {
      "text/plain": [
       "month  plan    \n",
       "1      surf         2\n",
       "       ultimate     4\n",
       "2      surf         9\n",
       "       ultimate     7\n",
       "3      surf        23\n",
       "       ultimate    12\n",
       "Name: user_id, dtype: int64"
      ]
     },
     "execution_count": 39,
     "metadata": {},
     "output_type": "execute_result"
    }
   ],
   "source": [
    "# Mostrar el número de usuarios por mes\n",
    "master_df.pivot_table(index='month', columns='plan', values='user_id', aggfunc='count').plot(kind='bar', rot=45)\n",
    "plt.title('Total number of users per month')\n",
    "plt.grid(True)\n",
    "plt.show()\n",
    "\n",
    "# Imprimir los primeros valores\n",
    "master_df.groupby(['month', 'plan'])['user_id'].count().head(6)\n"
   ]
  },
  {
   "cell_type": "markdown",
   "metadata": {},
   "source": [
    "Podemos observar cualitativamente que el pan **Surf** creció más en popularidad que **Ultimate** a lo largo del año."
   ]
  },
  {
   "cell_type": "markdown",
   "metadata": {
    "id": "vtW4CJEe0q1J"
   },
   "source": [
    "### Llamadas"
   ]
  },
  {
   "cell_type": "code",
   "execution_count": 40,
   "metadata": {
    "id": "Jf5v5--k0q1J",
    "scrolled": true
   },
   "outputs": [
    {
     "data": {
      "text/html": [
       "<div>\n",
       "<style scoped>\n",
       "    .dataframe tbody tr th:only-of-type {\n",
       "        vertical-align: middle;\n",
       "    }\n",
       "\n",
       "    .dataframe tbody tr th {\n",
       "        vertical-align: top;\n",
       "    }\n",
       "\n",
       "    .dataframe thead th {\n",
       "        text-align: right;\n",
       "    }\n",
       "</style>\n",
       "<table border=\"1\" class=\"dataframe\">\n",
       "  <thead>\n",
       "    <tr style=\"text-align: right;\">\n",
       "      <th></th>\n",
       "      <th>plan</th>\n",
       "      <th>month</th>\n",
       "      <th>total_calls</th>\n",
       "      <th>total_mins</th>\n",
       "      <th>mean_duration</th>\n",
       "    </tr>\n",
       "  </thead>\n",
       "  <tbody>\n",
       "    <tr>\n",
       "      <th>0</th>\n",
       "      <td>surf</td>\n",
       "      <td>1</td>\n",
       "      <td>60</td>\n",
       "      <td>406</td>\n",
       "      <td>6.766667</td>\n",
       "    </tr>\n",
       "    <tr>\n",
       "      <th>1</th>\n",
       "      <td>surf</td>\n",
       "      <td>2</td>\n",
       "      <td>366</td>\n",
       "      <td>2673</td>\n",
       "      <td>7.303279</td>\n",
       "    </tr>\n",
       "    <tr>\n",
       "      <th>2</th>\n",
       "      <td>surf</td>\n",
       "      <td>3</td>\n",
       "      <td>1068</td>\n",
       "      <td>7590</td>\n",
       "      <td>7.106742</td>\n",
       "    </tr>\n",
       "    <tr>\n",
       "      <th>3</th>\n",
       "      <td>surf</td>\n",
       "      <td>4</td>\n",
       "      <td>2444</td>\n",
       "      <td>17577</td>\n",
       "      <td>7.191899</td>\n",
       "    </tr>\n",
       "    <tr>\n",
       "      <th>4</th>\n",
       "      <td>surf</td>\n",
       "      <td>5</td>\n",
       "      <td>4289</td>\n",
       "      <td>30768</td>\n",
       "      <td>7.173700</td>\n",
       "    </tr>\n",
       "    <tr>\n",
       "      <th>5</th>\n",
       "      <td>surf</td>\n",
       "      <td>6</td>\n",
       "      <td>5769</td>\n",
       "      <td>41836</td>\n",
       "      <td>7.251863</td>\n",
       "    </tr>\n",
       "    <tr>\n",
       "      <th>6</th>\n",
       "      <td>surf</td>\n",
       "      <td>7</td>\n",
       "      <td>7642</td>\n",
       "      <td>54448</td>\n",
       "      <td>7.124836</td>\n",
       "    </tr>\n",
       "    <tr>\n",
       "      <th>7</th>\n",
       "      <td>surf</td>\n",
       "      <td>8</td>\n",
       "      <td>9325</td>\n",
       "      <td>66438</td>\n",
       "      <td>7.124718</td>\n",
       "    </tr>\n",
       "    <tr>\n",
       "      <th>8</th>\n",
       "      <td>surf</td>\n",
       "      <td>9</td>\n",
       "      <td>11273</td>\n",
       "      <td>80360</td>\n",
       "      <td>7.128537</td>\n",
       "    </tr>\n",
       "    <tr>\n",
       "      <th>9</th>\n",
       "      <td>surf</td>\n",
       "      <td>10</td>\n",
       "      <td>14303</td>\n",
       "      <td>101846</td>\n",
       "      <td>7.120604</td>\n",
       "    </tr>\n",
       "    <tr>\n",
       "      <th>10</th>\n",
       "      <td>surf</td>\n",
       "      <td>11</td>\n",
       "      <td>16731</td>\n",
       "      <td>119801</td>\n",
       "      <td>7.160421</td>\n",
       "    </tr>\n",
       "    <tr>\n",
       "      <th>11</th>\n",
       "      <td>surf</td>\n",
       "      <td>12</td>\n",
       "      <td>20814</td>\n",
       "      <td>150680</td>\n",
       "      <td>7.239358</td>\n",
       "    </tr>\n",
       "    <tr>\n",
       "      <th>12</th>\n",
       "      <td>ultimate</td>\n",
       "      <td>1</td>\n",
       "      <td>112</td>\n",
       "      <td>774</td>\n",
       "      <td>6.910714</td>\n",
       "    </tr>\n",
       "    <tr>\n",
       "      <th>13</th>\n",
       "      <td>ultimate</td>\n",
       "      <td>2</td>\n",
       "      <td>408</td>\n",
       "      <td>2822</td>\n",
       "      <td>6.916667</td>\n",
       "    </tr>\n",
       "    <tr>\n",
       "      <th>14</th>\n",
       "      <td>ultimate</td>\n",
       "      <td>3</td>\n",
       "      <td>552</td>\n",
       "      <td>3651</td>\n",
       "      <td>6.614130</td>\n",
       "    </tr>\n",
       "    <tr>\n",
       "      <th>15</th>\n",
       "      <td>ultimate</td>\n",
       "      <td>4</td>\n",
       "      <td>998</td>\n",
       "      <td>7074</td>\n",
       "      <td>7.088176</td>\n",
       "    </tr>\n",
       "    <tr>\n",
       "      <th>16</th>\n",
       "      <td>ultimate</td>\n",
       "      <td>5</td>\n",
       "      <td>1670</td>\n",
       "      <td>11781</td>\n",
       "      <td>7.054491</td>\n",
       "    </tr>\n",
       "    <tr>\n",
       "      <th>17</th>\n",
       "      <td>ultimate</td>\n",
       "      <td>6</td>\n",
       "      <td>2452</td>\n",
       "      <td>17435</td>\n",
       "      <td>7.110522</td>\n",
       "    </tr>\n",
       "    <tr>\n",
       "      <th>18</th>\n",
       "      <td>ultimate</td>\n",
       "      <td>7</td>\n",
       "      <td>3463</td>\n",
       "      <td>25197</td>\n",
       "      <td>7.276061</td>\n",
       "    </tr>\n",
       "    <tr>\n",
       "      <th>19</th>\n",
       "      <td>ultimate</td>\n",
       "      <td>8</td>\n",
       "      <td>4265</td>\n",
       "      <td>29922</td>\n",
       "      <td>7.015709</td>\n",
       "    </tr>\n",
       "    <tr>\n",
       "      <th>20</th>\n",
       "      <td>ultimate</td>\n",
       "      <td>9</td>\n",
       "      <td>5250</td>\n",
       "      <td>37626</td>\n",
       "      <td>7.166857</td>\n",
       "    </tr>\n",
       "    <tr>\n",
       "      <th>21</th>\n",
       "      <td>ultimate</td>\n",
       "      <td>10</td>\n",
       "      <td>6761</td>\n",
       "      <td>47778</td>\n",
       "      <td>7.066706</td>\n",
       "    </tr>\n",
       "    <tr>\n",
       "      <th>22</th>\n",
       "      <td>ultimate</td>\n",
       "      <td>11</td>\n",
       "      <td>7920</td>\n",
       "      <td>56540</td>\n",
       "      <td>7.138889</td>\n",
       "    </tr>\n",
       "    <tr>\n",
       "      <th>23</th>\n",
       "      <td>ultimate</td>\n",
       "      <td>12</td>\n",
       "      <td>9800</td>\n",
       "      <td>69324</td>\n",
       "      <td>7.073878</td>\n",
       "    </tr>\n",
       "  </tbody>\n",
       "</table>\n",
       "</div>"
      ],
      "text/plain": [
       "        plan  month  total_calls  total_mins  mean_duration\n",
       "0       surf      1           60         406       6.766667\n",
       "1       surf      2          366        2673       7.303279\n",
       "2       surf      3         1068        7590       7.106742\n",
       "3       surf      4         2444       17577       7.191899\n",
       "4       surf      5         4289       30768       7.173700\n",
       "5       surf      6         5769       41836       7.251863\n",
       "6       surf      7         7642       54448       7.124836\n",
       "7       surf      8         9325       66438       7.124718\n",
       "8       surf      9        11273       80360       7.128537\n",
       "9       surf     10        14303      101846       7.120604\n",
       "10      surf     11        16731      119801       7.160421\n",
       "11      surf     12        20814      150680       7.239358\n",
       "12  ultimate      1          112         774       6.910714\n",
       "13  ultimate      2          408        2822       6.916667\n",
       "14  ultimate      3          552        3651       6.614130\n",
       "15  ultimate      4          998        7074       7.088176\n",
       "16  ultimate      5         1670       11781       7.054491\n",
       "17  ultimate      6         2452       17435       7.110522\n",
       "18  ultimate      7         3463       25197       7.276061\n",
       "19  ultimate      8         4265       29922       7.015709\n",
       "20  ultimate      9         5250       37626       7.166857\n",
       "21  ultimate     10         6761       47778       7.066706\n",
       "22  ultimate     11         7920       56540       7.138889\n",
       "23  ultimate     12         9800       69324       7.073878"
      ]
     },
     "execution_count": 40,
     "metadata": {},
     "output_type": "execute_result"
    }
   ],
   "source": [
    "# Compara la duración promedio de llamadas por cada plan y por cada mes. \n",
    "calls_monthly = master_df.groupby(['plan','month']).agg(\n",
    "    total_calls=('total_calls', 'sum'),\n",
    "    total_mins=('total_mins', 'sum')\n",
    ").reset_index()\n",
    "\n",
    "# Calcular la duración promedio en una nueva columna\n",
    "calls_monthly['mean_duration'] = calls_monthly['total_mins'] / calls_monthly['total_calls']\n",
    "calls_monthly"
   ]
  },
  {
   "cell_type": "code",
   "execution_count": 41,
   "metadata": {},
   "outputs": [
    {
     "data": {
      "image/png": "[encoded data removed]",
      "text/plain": [
       "<Figure size 640x480 with 1 Axes>"
      ]
     },
     "metadata": {},
     "output_type": "display_data"
    }
   ],
   "source": [
    "# Traza un gráfico de barras para visualizarla.\n",
    "\n",
    "# Separamos en una columna para cada plan y graficamos\n",
    "# Duración promedio de llamadas\n",
    "calls_monthly.pivot(index='month', columns='plan', values='mean_duration').plot(kind='bar', rot=45)\n",
    "\n",
    "plt.title('2018 Mean Call Duration')\n",
    "plt.ylabel('Avg. call duration')\n",
    "plt.xlabel('Month')\n",
    "plt.legend(loc='lower right')\n",
    "plt.grid(True)\n",
    "plt.show()\n",
    "\n",
    "# Número de llamadas promedio\n",
    "#master_df.pivot_table(index='month', columns='plan', values='total_calls', aggfunc='mean').plot(kind='bar', rot=45)\n"
   ]
  },
  {
   "cell_type": "markdown",
   "metadata": {},
   "source": [
    "Observaciones:\n",
    "- La duración promedio de ambos planes es cercana a 7 minutos durante todo el año. \n",
    "- La mayoría de los meses duran más las llamadas de los usuarios de *surf* excepto en enero, agosto y octubre.\n",
    "- La diferencia entre promedios no es muy significativa, de menos de un minuto en todos los casos. Las mayores diferencias se dieron en febrero y marzo."
   ]
  },
  {
   "cell_type": "code",
   "execution_count": 42,
   "metadata": {
    "id": "QoLqW1S_0q1J"
   },
   "outputs": [
    {
     "data": {
      "image/png": "[encoded data removed]",
      "text/plain": [
       "<Figure size 640x480 with 1 Axes>"
      ]
     },
     "metadata": {},
     "output_type": "display_data"
    }
   ],
   "source": [
    "# Comparar la cantidad de minutos utilizados por usuario por plan\n",
    "master_df.query(\"plan=='surf'\")['total_mins'].hist(bins=35, legend=True)\n",
    "master_df.query(\"plan=='ultimate'\")['total_mins'].hist(bins=35, alpha=0.8, legend=True)\n",
    "\n",
    "plt.legend(['surf', 'ultimate'])\n",
    "plt.title('Monthly minutes per user by plan')\n",
    "plt.xlabel('User monthly minutes')\n",
    "plt.ylabel('Frequency')\n",
    "plt.show()\n"
   ]
  },
  {
   "cell_type": "markdown",
   "metadata": {
    "id": "bLS9T8OH0q1K"
   },
   "source": [
    "Vemos que el comportamiento de consumo de minutos de los usuarios de ambos planes es bastante similar. Calculemos los valores de posicion y variabilidad para verificar esto."
   ]
  },
  {
   "cell_type": "code",
   "execution_count": 43,
   "metadata": {
    "id": "oSndbAnt0q1K"
   },
   "outputs": [
    {
     "name": "stdout",
     "output_type": "stream",
     "text": [
      "surf:\n",
      "count    1573.000000\n",
      "mean      428.749523\n",
      "std       234.453150\n",
      "median\t 425.0\n",
      "var\t 54968.27946065038\n",
      "\n",
      "ultimate:\n",
      "count    720.000000\n",
      "mean     430.450000\n",
      "std      240.508762\n",
      "median\t 424.0\n",
      "var\t 57844.46481223922\n"
     ]
    }
   ],
   "source": [
    "# Calcula la media y la varianza de la duración mensual de llamadas.\n",
    "\n",
    "print('surf:')\n",
    "print(master_df.query(\"plan=='surf'\")['total_mins'].describe()[0:3].to_string())\n",
    "print('median\\t', master_df.query(\"plan=='surf'\")['total_mins'].median())\n",
    "print('var\\t', master_df.query(\"plan=='surf'\")['total_mins'].var())\n",
    "\n",
    "print('\\nultimate:')\n",
    "print(master_df.query(\"plan=='ultimate'\")['total_mins'].describe()[0:3].to_string())\n",
    "print('median\\t', master_df.query(\"plan=='ultimate'\")['total_mins'].median())\n",
    "print('var\\t', master_df.query(\"plan=='ultimate'\")['total_mins'].var())"
   ]
  },
  {
   "cell_type": "code",
   "execution_count": 44,
   "metadata": {
    "id": "nZzoRUKc0q1K",
    "scrolled": true
   },
   "outputs": [
    {
     "data": {
      "image/png": "[encoded data removed]",
      "text/plain": [
       "<Figure size 640x480 with 1 Axes>"
      ]
     },
     "metadata": {},
     "output_type": "display_data"
    }
   ],
   "source": [
    "# Traza un diagrama de caja para visualizar la distribución de la duración mensual de llamadas\n",
    "sns.boxplot(data=master_df, y='plan', x='total_mins', width=0.4, order=['surf', 'ultimate'])\n",
    "plt.grid(True)\n",
    "plt.title('Monthly minutes per user by plan')\n",
    "plt.xlabel('User monthly minutes')\n",
    "plt.show()\n"
   ]
  },
  {
   "cell_type": "code",
   "execution_count": 45,
   "metadata": {},
   "outputs": [
    {
     "data": {
      "text/html": [
       "<div>\n",
       "<style scoped>\n",
       "    .dataframe tbody tr th:only-of-type {\n",
       "        vertical-align: middle;\n",
       "    }\n",
       "\n",
       "    .dataframe tbody tr th {\n",
       "        vertical-align: top;\n",
       "    }\n",
       "\n",
       "    .dataframe thead th {\n",
       "        text-align: right;\n",
       "    }\n",
       "</style>\n",
       "<table border=\"1\" class=\"dataframe\">\n",
       "  <thead>\n",
       "    <tr style=\"text-align: right;\">\n",
       "      <th></th>\n",
       "      <th>user_id</th>\n",
       "      <th>plan</th>\n",
       "      <th>total_mins</th>\n",
       "    </tr>\n",
       "  </thead>\n",
       "  <tbody>\n",
       "    <tr>\n",
       "      <th>1567</th>\n",
       "      <td>1267</td>\n",
       "      <td>surf</td>\n",
       "      <td>1510</td>\n",
       "    </tr>\n",
       "    <tr>\n",
       "      <th>435</th>\n",
       "      <td>1329</td>\n",
       "      <td>ultimate</td>\n",
       "      <td>1369</td>\n",
       "    </tr>\n",
       "    <tr>\n",
       "      <th>1918</th>\n",
       "      <td>1365</td>\n",
       "      <td>surf</td>\n",
       "      <td>1357</td>\n",
       "    </tr>\n",
       "    <tr>\n",
       "      <th>1748</th>\n",
       "      <td>1324</td>\n",
       "      <td>surf</td>\n",
       "      <td>1304</td>\n",
       "    </tr>\n",
       "    <tr>\n",
       "      <th>499</th>\n",
       "      <td>1382</td>\n",
       "      <td>ultimate</td>\n",
       "      <td>1295</td>\n",
       "    </tr>\n",
       "  </tbody>\n",
       "</table>\n",
       "</div>"
      ],
      "text/plain": [
       "      user_id      plan  total_mins\n",
       "1567     1267      surf        1510\n",
       "435      1329  ultimate        1369\n",
       "1918     1365      surf        1357\n",
       "1748     1324      surf        1304\n",
       "499      1382  ultimate        1295"
      ]
     },
     "execution_count": 45,
     "metadata": {},
     "output_type": "execute_result"
    }
   ],
   "source": [
    "# Imprimir valores atípicos más altos\n",
    "master_df[['user_id','plan', 'total_mins']].sort_values(by='total_mins', ascending=False).head()"
   ]
  },
  {
   "cell_type": "markdown",
   "metadata": {
    "id": "r627zBO50q1K"
   },
   "source": [
    "El análisis de la distribución de minutos muestra un **comportamiento de uso bastante similar entre usuarios de ambos planes**, con un promedio cercano a 430 minutos mensuales y una desviación estándar cercana a 240 minutos.\n",
    "\n",
    "Sin embargo, las implicaciones para la empresa difieren sustancialmente según el plan:\n",
    "- Ultimate: en su mayoría no alcanzan el límite de 1000 minutos incluidos. Como consecuencia, generan pocos ingresos adicionales por cargos extra.\n",
    "- Surf: consumen prácticamente la totalidad de los 500 minutos incluidos, y **un porcentaje significativo incurre en cargos por excedente**, los cuales además son más rentables para la empresa dado que el costo unitario es mayor (0.03 USD vs. 0.01 USD en Ultimate).\n",
    "\n",
    "También se observa la presencia de **valores atípicos** similares en ambos planes. El caso más extremo corresponde a un usuario de Surf con un consumo de 1510 minutos, lo que generó 30.3 USD adicionales. Aunque individualmente este cargo aún representa un pago total inferior a la tarifa fija de Ultimate (20 + 30.3 < 70), a escala acumulada este tipo de excedentes puede convertirse en una fuente significativa de ingresos adicionales para la empresa."
   ]
  },
  {
   "cell_type": "markdown",
   "metadata": {
    "id": "8idKy8Wh0q1L"
   },
   "source": [
    "### Mensajes"
   ]
  },
  {
   "cell_type": "code",
   "execution_count": 46,
   "metadata": {
    "id": "NXLxiTit0q1L",
    "jupyter": {
     "source_hidden": true
    }
   },
   "outputs": [
    {
     "data": {
      "image/png": "[encoded data removed]",
      "text/plain": [
       "<Figure size 640x480 with 1 Axes>"
      ]
     },
     "metadata": {},
     "output_type": "display_data"
    }
   ],
   "source": [
    "# Compara el número de mensajes que tienden a enviar cada mes los usuarios de cada plan\n",
    "master_df.pivot_table(index='month', columns='plan', values='total_msgs', aggfunc='mean').plot(kind='bar', rot=45)\n",
    "\n",
    "plt.title('2018 Mean Messages per User')\n",
    "plt.ylabel('Avg. SMS sent per user')\n",
    "plt.xlabel('Month')\n",
    "plt.grid(True)\n",
    "plt.show()"
   ]
  },
  {
   "cell_type": "markdown",
   "metadata": {},
   "source": [
    "La cantidad de mensajes promedio tiene una tendencia claramente creciente a lo largo del año para ambos planes.\n",
    "Esto se puede deber indirectamente al aumento mensual de usuarios, ya que entre más usuarios haya es más probable que algunos de ellos envíen muchos más mensajes, lo cual infla el promedio de mensajes usados.\n",
    "\n",
    "También se puede deber a que con el tiempo los usuarios se dan cuenta que no usan todos los mensajes que les ofrece su plan y por lo tanto usan más los meses siguientes..."
   ]
  },
  {
   "cell_type": "code",
   "execution_count": 47,
   "metadata": {
    "id": "GRI_R7xF0q1L",
    "jupyter": {
     "source_hidden": true
    }
   },
   "outputs": [
    {
     "data": {
      "image/png": "[encoded data removed]",
      "text/plain": [
       "<Figure size 640x480 with 1 Axes>"
      ]
     },
     "metadata": {},
     "output_type": "display_data"
    }
   ],
   "source": [
    "# Compara la cantidad de mensajes consumidos por usuarios por plan\n",
    "master_df.query(\"plan=='surf'\")['total_msgs'].hist(bins=35, legend=True, density=True)\n",
    "master_df.query(\"plan=='ultimate'\")['total_msgs'].hist(bins=20, alpha=0.8, legend=True, density=True)\n",
    "\n",
    "plt.legend(['surf', 'ultimate'])\n",
    "plt.title('Monthly messages per user by plan')\n",
    "plt.xlabel('User monthly messages')\n",
    "plt.ylabel('Frequency density')\n",
    "plt.show()\n"
   ]
  },
  {
   "cell_type": "code",
   "execution_count": 48,
   "metadata": {
    "id": "dtFwCGAp0q1M"
   },
   "outputs": [
    {
     "name": "stdout",
     "output_type": "stream",
     "text": [
      "surf:\n",
      "count    1573.000000\n",
      "mean       31.159568\n",
      "std        33.566717\n",
      "var\t 1126.7245219504066\n",
      "\n",
      "ultimate:\n",
      "count    720.000000\n",
      "mean      37.551389\n",
      "std       34.767179\n",
      "var\t 1208.756743548138\n"
     ]
    }
   ],
   "source": [
    "# Calcula la media y la varianza de los mensajes mensuales por usuario\n",
    "\n",
    "print('surf:')\n",
    "print(master_df.query(\"plan=='surf'\")['total_msgs'].describe()[0:3].to_string())\n",
    "print('var\\t', master_df.query(\"plan=='surf'\")['total_msgs'].var())\n",
    "\n",
    "print('\\nultimate:')\n",
    "print(master_df.query(\"plan=='ultimate'\")['total_msgs'].describe()[0:3].to_string())\n",
    "print('var\\t', master_df.query(\"plan=='ultimate'\")['total_msgs'].var())"
   ]
  },
  {
   "cell_type": "code",
   "execution_count": 49,
   "metadata": {},
   "outputs": [
    {
     "data": {
      "text/html": [
       "<div>\n",
       "<style scoped>\n",
       "    .dataframe tbody tr th:only-of-type {\n",
       "        vertical-align: middle;\n",
       "    }\n",
       "\n",
       "    .dataframe tbody tr th {\n",
       "        vertical-align: top;\n",
       "    }\n",
       "\n",
       "    .dataframe thead th {\n",
       "        text-align: right;\n",
       "    }\n",
       "</style>\n",
       "<table border=\"1\" class=\"dataframe\">\n",
       "  <thead>\n",
       "    <tr style=\"text-align: right;\">\n",
       "      <th></th>\n",
       "      <th>user_id</th>\n",
       "      <th>plan</th>\n",
       "      <th>total_msgs</th>\n",
       "    </tr>\n",
       "  </thead>\n",
       "  <tbody>\n",
       "    <tr>\n",
       "      <th>849</th>\n",
       "      <td>1052</td>\n",
       "      <td>surf</td>\n",
       "      <td>266</td>\n",
       "    </tr>\n",
       "    <tr>\n",
       "      <th>1955</th>\n",
       "      <td>1381</td>\n",
       "      <td>surf</td>\n",
       "      <td>224</td>\n",
       "    </tr>\n",
       "    <tr>\n",
       "      <th>1956</th>\n",
       "      <td>1381</td>\n",
       "      <td>surf</td>\n",
       "      <td>180</td>\n",
       "    </tr>\n",
       "    <tr>\n",
       "      <th>1771</th>\n",
       "      <td>1328</td>\n",
       "      <td>surf</td>\n",
       "      <td>168</td>\n",
       "    </tr>\n",
       "    <tr>\n",
       "      <th>194</th>\n",
       "      <td>1132</td>\n",
       "      <td>ultimate</td>\n",
       "      <td>166</td>\n",
       "    </tr>\n",
       "  </tbody>\n",
       "</table>\n",
       "</div>"
      ],
      "text/plain": [
       "      user_id      plan  total_msgs\n",
       "849      1052      surf         266\n",
       "1955     1381      surf         224\n",
       "1956     1381      surf         180\n",
       "1771     1328      surf         168\n",
       "194      1132  ultimate         166"
      ]
     },
     "execution_count": 49,
     "metadata": {},
     "output_type": "execute_result"
    }
   ],
   "source": [
    "# Imprimir valores atípicos más altos\n",
    "master_df[['user_id','plan', 'total_msgs']].sort_values(by='total_msgs', ascending=False).head()\n"
   ]
  },
  {
   "cell_type": "markdown",
   "metadata": {
    "id": "390SSL480q1M"
   },
   "source": [
    "En términos generales, el consumo mensual de mensajes presenta un **patrón similar entre usuarios de Surf y Ultimate**. Una proporción considerable de usuarios no utiliza los SMS incluidos, y conforme aumenta el número de mensajes enviados, la cantidad de usuarios disminuye rápidamente. En promedio, los usuarios de Surf envían aproximadamente 31 mensajes por mes con una desviación estándar de 33.6, mientras que los de Ultimate registran un promedio de 37.6 mensajes con una desviación estándar de 34.8. Además, se observa una **tendencia creciente a lo largo del año**, posiblemente asociada a que los usuarios toman conciencia de que disponen de SMS sin utilizar y ajustan su comportamiento para aprovecharlos.\n",
    "\n",
    "\n",
    "Aunque los promedios son cercanos, los histogramas de densidad permiten identificar una diferencia sutil pero relevante: \n",
    "- En Surf, donde el límite incluido es de 50 mensajes, se concentra una mayor proporción de usuarios en rangos **por debajo de ese umbral**.\n",
    "- En Ultimate, con 1000 mensajes incluidos, la distribución muestra un ligero aumento en la proporción de usuarios que **consumen más de 50 mensajes**. Esto sugiere que los usuarios de Ultimate, aunque se mantienen lejos de agotar su cuota, muestran una mayor disposición a un consumo más elevado que los de Surf.\n",
    "\n",
    "Un aspecto notable es la presencia de **valores atípicos más frecuentes y más extremos en Surf**. El consumo máximo registrado alcanza los 266 mensajes en un mes para un usuario de este plan. Para la empresa, este comportamiento, aunque no muy común, es particularmente rentable, ya que cada mensaje adicional a los 50 incluidos se cobra a 0.03 USD, frente a 0.01 USD en Ultimate. Aunque en términos individuales la factura final de Surf suele mantenerse por debajo de la cuota fija de Ultimate (es decir, el cliente sigue “ahorrando”), la acumulación de múltiples usuarios con consumos extra en esta y otras categorías genera ingresos adicionales significativos para la compañía.  \n"
   ]
  },
  {
   "cell_type": "markdown",
   "metadata": {
    "id": "42YSypXz0q1M"
   },
   "source": [
    "### Internet"
   ]
  },
  {
   "cell_type": "code",
   "execution_count": 50,
   "metadata": {
    "id": "lSuKPtjh0q1M"
   },
   "outputs": [
    {
     "data": {
      "image/png": "[encoded data removed]",
      "text/plain": [
       "<Figure size 640x480 with 1 Axes>"
      ]
     },
     "metadata": {},
     "output_type": "display_data"
    }
   ],
   "source": [
    "# Compara la cantidad de GB que tienden a usar cada mes los usuarios de cada plan\n",
    "master_df.pivot_table(index='month', columns='plan', values='total_gb', aggfunc='mean').plot(kind='bar', rot=45)\n",
    "\n",
    "plt.title('2018 Avg. Navegation by user')\n",
    "plt.ylabel('Avg. GB used per user')\n",
    "plt.xlabel('Month')\n",
    "plt.legend(loc='lower right')\n",
    "plt.ylim(0,20)\n",
    "plt.grid(True)\n",
    "plt.show()"
   ]
  },
  {
   "cell_type": "markdown",
   "metadata": {},
   "source": [
    "Observaciones:\n",
    "\n",
    "- Surf tiene una tendencia creciente, mientras que Ultimate tiene una tendencia más estable que se mantiene entre 15 y 18 GB.\n",
    "\n",
    "- El consumo en enero fue mucho más bajo en ambos casos, esto seguramente se debe a que la cantidad de usuarios fue mucho menor que el resto del año. Y esos pocos usuarios usaron poca navegación.\n"
   ]
  },
  {
   "cell_type": "code",
   "execution_count": 51,
   "metadata": {
    "id": "wnh8jYXi0q1N"
   },
   "outputs": [
    {
     "data": {
      "image/png": "[encoded data removed]",
      "text/plain": [
       "<Figure size 640x480 with 1 Axes>"
      ]
     },
     "metadata": {},
     "output_type": "display_data"
    }
   ],
   "source": [
    "# Compara la cantidad de tráfico de Internet consumido por usuarios por plan\n",
    "master_df.query(\"plan=='surf'\")['gb_used'].hist(bins=35, legend=True, density=True)\n",
    "master_df.query(\"plan=='ultimate'\")['gb_used'].hist(bins=25, alpha=0.8, legend=True, density=True)\n",
    "\n",
    "plt.legend(['surf', 'ultimate'])\n",
    "plt.title('Monthly GB per user by plan')\n",
    "plt.xlabel('User monthly navegation (GB)')\n",
    "plt.ylabel('Frequency density')\n",
    "plt.show()\n"
   ]
  },
  {
   "cell_type": "code",
   "execution_count": 52,
   "metadata": {
    "id": "5VlyJ9ry0q1N"
   },
   "outputs": [
    {
     "name": "stdout",
     "output_type": "stream",
     "text": [
      "surf:\n",
      "count    1573.000000\n",
      "mean       16.670693\n",
      "std         7.847522\n",
      "var\t 61.58359983759012\n",
      "\n",
      "ultimate:\n",
      "count    720.000000\n",
      "mean      17.306944\n",
      "std        7.670108\n",
      "var\t 58.830549760469786\n"
     ]
    }
   ],
   "source": [
    "# Calcula la media y la varianza de la gigas de navegación mensuales por usuario\n",
    "print('surf:')\n",
    "print(master_df.query(\"plan=='surf'\")['total_gb'].describe()[0:3].to_string())\n",
    "print('var\\t', master_df.query(\"plan=='surf'\")['total_gb'].var())\n",
    "\n",
    "print('\\nultimate:')\n",
    "print(master_df.query(\"plan=='ultimate'\")['total_gb'].describe()[0:3].to_string())\n",
    "print('var\\t', master_df.query(\"plan=='ultimate'\")['total_gb'].var())"
   ]
  },
  {
   "cell_type": "code",
   "execution_count": 53,
   "metadata": {},
   "outputs": [
    {
     "data": {
      "text/html": [
       "<div>\n",
       "<style scoped>\n",
       "    .dataframe tbody tr th:only-of-type {\n",
       "        vertical-align: middle;\n",
       "    }\n",
       "\n",
       "    .dataframe tbody tr th {\n",
       "        vertical-align: top;\n",
       "    }\n",
       "\n",
       "    .dataframe thead th {\n",
       "        text-align: right;\n",
       "    }\n",
       "</style>\n",
       "<table border=\"1\" class=\"dataframe\">\n",
       "  <thead>\n",
       "    <tr style=\"text-align: right;\">\n",
       "      <th></th>\n",
       "      <th>user_id</th>\n",
       "      <th>plan</th>\n",
       "      <th>total_gb</th>\n",
       "    </tr>\n",
       "  </thead>\n",
       "  <tbody>\n",
       "    <tr>\n",
       "      <th>1953</th>\n",
       "      <td>1379</td>\n",
       "      <td>surf</td>\n",
       "      <td>70</td>\n",
       "    </tr>\n",
       "    <tr>\n",
       "      <th>2272</th>\n",
       "      <td>1121</td>\n",
       "      <td>surf</td>\n",
       "      <td>66</td>\n",
       "    </tr>\n",
       "    <tr>\n",
       "      <th>1636</th>\n",
       "      <td>1292</td>\n",
       "      <td>surf</td>\n",
       "      <td>51</td>\n",
       "    </tr>\n",
       "    <tr>\n",
       "      <th>1640</th>\n",
       "      <td>1292</td>\n",
       "      <td>surf</td>\n",
       "      <td>51</td>\n",
       "    </tr>\n",
       "    <tr>\n",
       "      <th>1464</th>\n",
       "      <td>1240</td>\n",
       "      <td>surf</td>\n",
       "      <td>49</td>\n",
       "    </tr>\n",
       "  </tbody>\n",
       "</table>\n",
       "</div>"
      ],
      "text/plain": [
       "      user_id  plan  total_gb\n",
       "1953     1379  surf        70\n",
       "2272     1121  surf        66\n",
       "1636     1292  surf        51\n",
       "1640     1292  surf        51\n",
       "1464     1240  surf        49"
      ]
     },
     "execution_count": 53,
     "metadata": {},
     "output_type": "execute_result"
    }
   ],
   "source": [
    "# Imprimir valores atípicos más altos\n",
    "master_df[['user_id','plan', 'total_gb']].sort_values(by='total_gb', ascending=False).head()\n"
   ]
  },
  {
   "cell_type": "markdown",
   "metadata": {
    "id": "UN9zwuMP0q1N"
   },
   "source": [
    "El análisis de la distribución de gigabytes (pagados) muestra un comportamiento de uso bastante similar entre usuarios de ambos planes, con un promedio cercano a 17 GB mensuales y una desviación estándar cercana a 8 GB.\n",
    "\n",
    "Sin embargo, las implicaciones para la empresa difieren sustancialmente según el plan:\n",
    "\n",
    "- Ultimate: en su mayoría no alcanzan el límite de 30 GB incluidos. Como consecuencia, generan pocos ingresos adicionales por cargos extra.\n",
    "- Surf: una gran proporción consume **más de los 15 GB incluidos, incurriendo en cargos por excedente**. Esto es bastante rentable para la empresa ya que el costo por GB excedente es de 10 USD (frente a los 7 USD en Ultimate), y sabemos que la mayor parte de la base de clientes pertenece a este plan.\n",
    "\n",
    "Como en las categorías anteriores, se observan valores atípicos, sobre todo en Surf. El caso más extremo corresponde a un usuario de Surf con un consumo de 70 GB, lo cual representa una ganancia de 550 USD adicionales. Esta cifra no solo supera ampliamente la tarifa base de Ultimate, sino que también ilustra cómo los excedentes pueden convertirse en una fuente importante de ingresos complementarios para la compañía.\n",
    "\n",
    "Estos factores pueden ser claves para entender cuál de los dos planes es más rentable al final de cuentas."
   ]
  },
  {
   "cell_type": "markdown",
   "metadata": {
    "id": "tCijq3260q1N"
   },
   "source": [
    "## Ingresos"
   ]
  },
  {
   "cell_type": "markdown",
   "metadata": {
    "id": "9nq5IAcy0q1O"
   },
   "source": [
    "Del mismo modo que estudiamos el comportamiento de los usuarios, ahora veamos las estadísticas de los ingresos que dejan los planes."
   ]
  },
  {
   "cell_type": "code",
   "execution_count": 54,
   "metadata": {
    "id": "tz-dq_V00q1O"
   },
   "outputs": [
    {
     "data": {
      "image/png": "[encoded data removed]",
      "text/plain": [
       "<Figure size 640x480 with 1 Axes>"
      ]
     },
     "metadata": {},
     "output_type": "display_data"
    }
   ],
   "source": [
    "# Compara la cantidad de ingreso promedio por usuario cada mes\n",
    "master_df.pivot_table(index='month', columns='plan', values='total_charge', aggfunc='mean').plot(kind='bar', rot=45)\n",
    "\n",
    "plt.title('2018 Mean user charges')\n",
    "plt.ylabel('Avg. charge per user (USD)')\n",
    "plt.xlabel('Month')\n",
    "plt.legend(loc='lower right')\n",
    "plt.grid(True)\n",
    "plt.show()"
   ]
  },
  {
   "cell_type": "markdown",
   "metadata": {},
   "source": [
    "Observamos que, si bien el promedio de ingreso mensual de Ultimate se mantiene de manera consistente por encima del de Surf, es un ingreso casi fijo en torno a la tarifa base de 70 USD, con variaciones mínimas. Esto refleja que los usuarios de Ultimate generan pocos cargos adicionales y que los ingresos asociados a este plan dependen principalmente de la cuota fija.  \n",
    "\n",
    "En contraste, los ingresos derivados de Surf presentan una tendencia de crecimiento a lo largo del año. Exceptuando el primer mes —cuando el ingreso promedio coincidió con la tarifa base de 20 USD—, en todos los meses siguientes el promedio ha estado claramente por encima de ese nivel. Hacia finales del año, el ingreso promedio de Surf prácticamente alcanzó al de Ultimate.  \n",
    "\n",
    "Este comportamiento puede explicarse en parte por el **incremento en la popularidad del plan Surf** frente a Ultimate, que vimos al inicio de esta sección, y por la relación directa entre el **uso de datos móviles y los cargos adicionales**. Es posible que muchos usuarios hayan evaluado que resulta más conveniente contratar Surf y pagar por los gigabytes adicionales consumidos, en lugar de contratar Ultimate.\n",
    "\n",
    "Además, podemos ver que cualitativamente el crecimiento de ingresos en Surf a lo largo del año se asemeja al crecimiento de uso de GB de navegación. Esto sugiere que los datos de navegación pueden ser el factor principal que influye tanto en las preferencias de los usuarios como en los ingresos adicionales para Megaline.\n"
   ]
  },
  {
   "cell_type": "code",
   "execution_count": 55,
   "metadata": {
    "id": "0Y1v8ZUz0q1P"
   },
   "outputs": [
    {
     "data": {
      "image/png": "[encoded data removed]",
      "text/plain": [
       "<Figure size 640x480 with 1 Axes>"
      ]
     },
     "metadata": {},
     "output_type": "display_data"
    }
   ],
   "source": [
    "# Compara la cantidad de tráfico de Internet consumido por usuarios por plan\n",
    "master_df.query(\"plan=='surf'\")['total_charge'].hist(bins=50, legend=True)#, density=True)\n",
    "master_df.query(\"plan=='ultimate'\")['total_charge'].hist(bins=10, alpha=0.8, legend=True)#, density=True)\n",
    "\n",
    "plt.legend(['surf', 'ultimate'])\n",
    "plt.title('Monthly charge per user by plan')\n",
    "plt.xlabel('User monthly charge (USD)')\n",
    "plt.ylabel('Frequency')\n",
    "#plt.ylim(0,0.02)\n",
    "plt.show()\n"
   ]
  },
  {
   "cell_type": "code",
   "execution_count": 56,
   "metadata": {
    "id": "bYmwxyVh0q1P",
    "jupyter": {
     "source_hidden": true
    }
   },
   "outputs": [
    {
     "name": "stdout",
     "output_type": "stream",
     "text": [
      "surf:\n",
      "count    1573.000000\n",
      "mean       60.706408\n",
      "std        55.388042\n",
      "var\t 3067.835152293878\n",
      "\n",
      "ultimate:\n",
      "count    720.000000\n",
      "mean      72.313889\n",
      "std       11.395108\n",
      "min       70.000000\n",
      "25%       70.000000\n",
      "50%       70.000000\n",
      "75%       70.000000\n",
      "max      182.000000\n",
      "var\t 129.8484855509195\n"
     ]
    }
   ],
   "source": [
    "print('surf:')\n",
    "print(master_df.query(\"plan=='surf'\")['total_charge'].describe()[0:3].to_string())\n",
    "print('var\\t', master_df.query(\"plan=='surf'\")['total_charge'].var())\n",
    "\n",
    "print('\\nultimate:')\n",
    "print(master_df.query(\"plan=='ultimate'\")['total_charge'].describe().to_string())\n",
    "print('var\\t', master_df.query(\"plan=='ultimate'\")['total_charge'].var())\n"
   ]
  },
  {
   "cell_type": "markdown",
   "metadata": {
    "id": "KAFidcXZ0q1P"
   },
   "source": [
    "El análisis de las distribuciones de ingresos mensuales muestra diferencias marcadas entre Ultimate y Surf. En promedio por usuario, Ultimate genera más ingresos (70 USD) que Surf (60 USD). Sin embargo, los ingresos de Ultimate están prácticamente anclados a la tarifa base fija, con muy poca variación mensual.\n",
    "\n",
    "En contraste, Surf presenta una desviación estándar mucho mayor (55 USD vs 11 USD en Ultimate), lo que indica una dispersión más amplia y la presencia de usuarios que generan ingresos adicionales significativos a través de cargos por excedente. A este factor se suma la mayor base de clientes de Surf, lo que magnifica el impacto de estos excedentes en los ingresos totales de la empresa.\n",
    "\n",
    "Los valores atípicos también juegan un papel importante. En Surf se concentran los casos de facturación excepcionalmente alta debido al consumo intensivo de datos o mensajes, mientras que en Ultimate las facturas se mantienen mucho más estables y predecibles. Este fenómeno convierte a Surf en una fuente de ingresos menos uniforme pero potencialmente más rentable cuando se considera el agregado de toda la base de clientes.\n",
    "\n",
    "La conclusión sobre cuál plan resulta más rentable no es inmediata. Ultimate garantiza ingresos estables y predecibles por usuario, lo que puede ser valioso desde el punto de vista de la planeación. Surf, en cambio, ofrece una combinación de tarifa base baja, cargos por excedentes altos y una amplia base de clientes, lo que abre la posibilidad de una rentabilidad superior en el agregado, aunque con mayor variabilidad.\n",
    "Para un análisis más completo de la rentabilidad sería necesario considerar también el costo operativo asociado a prestar cada servicio."
   ]
  },
  {
   "cell_type": "code",
   "execution_count": 57,
   "metadata": {},
   "outputs": [
    {
     "data": {
      "text/html": [
       "<div>\n",
       "<style scoped>\n",
       "    .dataframe tbody tr th:only-of-type {\n",
       "        vertical-align: middle;\n",
       "    }\n",
       "\n",
       "    .dataframe tbody tr th {\n",
       "        vertical-align: top;\n",
       "    }\n",
       "\n",
       "    .dataframe thead th {\n",
       "        text-align: right;\n",
       "    }\n",
       "</style>\n",
       "<table border=\"1\" class=\"dataframe\">\n",
       "  <thead>\n",
       "    <tr style=\"text-align: right;\">\n",
       "      <th></th>\n",
       "      <th>total_charge</th>\n",
       "    </tr>\n",
       "    <tr>\n",
       "      <th>plan</th>\n",
       "      <th></th>\n",
       "    </tr>\n",
       "  </thead>\n",
       "  <tbody>\n",
       "    <tr>\n",
       "      <th>surf</th>\n",
       "      <td>95491.18</td>\n",
       "    </tr>\n",
       "    <tr>\n",
       "      <th>ultimate</th>\n",
       "      <td>52066.00</td>\n",
       "    </tr>\n",
       "  </tbody>\n",
       "</table>\n",
       "</div>"
      ],
      "text/plain": [
       "          total_charge\n",
       "plan                  \n",
       "surf          95491.18\n",
       "ultimate      52066.00"
      ]
     },
     "execution_count": 57,
     "metadata": {},
     "output_type": "execute_result"
    }
   ],
   "source": [
    "master_df[['plan', 'total_charge']].groupby(['plan']).sum()"
   ]
  },
  {
   "cell_type": "markdown",
   "metadata": {
    "id": "ajJ7VKeI0q1Q"
   },
   "source": [
    "## Prueba las hipótesis estadísticas"
   ]
  },
  {
   "cell_type": "markdown",
   "metadata": {
    "id": "AdXAZ-yL0q1Q"
   },
   "source": [
    "Para complementar el análisis directo de los datos, haremos pruebas de hipótesis estadísticas. Primero probemos la hipótesis de que son diferentes los ingresos promedio procedentes de los usuarios de Ultimate y Surf."
   ]
  },
  {
   "cell_type": "markdown",
   "metadata": {
    "id": "IQwa_hsh0q1Q"
   },
   "source": [
    "Hipótesis nula ($H_0$): los ingresos promedio mensuales de Ultimate y Surf son iguales.\n",
    "Hipótesis alternativa ($H_1$): los ingresos promedio mensuales de Ultimate y Surf son iguales. \n",
    "\n",
    "Haremos una prueba t de dos colas de Welch, ya que tenemos varianzas muy distintas en ambas distribuciones.\n",
    "Usaremos un valor de significación estadística de 5%.\n"
   ]
  },
  {
   "cell_type": "code",
   "execution_count": 58,
   "metadata": {
    "id": "nFoPNlPq0q1R"
   },
   "outputs": [
    {
     "name": "stdout",
     "output_type": "stream",
     "text": [
      "Rechazamos la hipótesis nula, con un valor p: 3.1703905481135734e-15\n"
     ]
    }
   ],
   "source": [
    "from scipy import stats as st\n",
    "\n",
    "# Prueba las hipótesis\n",
    "array1 = master_df.query(\"plan=='surf'\")['total_charge']\n",
    "array2 = master_df.query(\"plan=='ultimate'\")['total_charge']\n",
    "alpha = 0.05\n",
    "\n",
    "_, p = st.ttest_ind(array1, array2, equal_var=False)\n",
    "\n",
    "if p > alpha:\n",
    "    print(\"No rechazamos la hipotesis nula\")\n",
    "else:\n",
    "    print(\"Rechazamos la hipótesis nula, con un valor p:\", p)\n"
   ]
  },
  {
   "cell_type": "markdown",
   "metadata": {
    "id": "tCcAruM60q1R"
   },
   "source": [
    "Ahora probamos la hipótesis de que el ingreso promedio de los usuarios del área NY-NJ es diferente al de los usuarios de otras regiones."
   ]
  },
  {
   "cell_type": "markdown",
   "metadata": {
    "id": "LsBgitqj0q1R"
   },
   "source": [
    "Hipótesis nula ($H_0$): los ingresos promedio mensuales del área NY-NJ son iguales a los de otras regiones.\n",
    "Hipótesis alternativa ($H_1$): los ingresos promedio mensuales del área NY-NJ son distintos a los de otras regiones.\n",
    "\n",
    "Haremos una prueba t de dos colas, con varianzas similares.\n",
    "Usaremos un valor de significación estadística de 5%.\n"
   ]
  },
  {
   "cell_type": "code",
   "execution_count": 59,
   "metadata": {
    "scrolled": true
   },
   "outputs": [
    {
     "data": {
      "text/plain": [
       "array(['Atlanta-Sandy Springs-Roswell, GA MSA',\n",
       "       'San Francisco-Oakland-Berkeley, CA MSA',\n",
       "       'Orlando-Kissimmee-Sanford, FL MSA', 'Cleveland-Elyria, OH MSA',\n",
       "       'Knoxville, TN MSA', 'Houston-The Woodlands-Sugar Land, TX MSA',\n",
       "       'Philadelphia-Camden-Wilmington, PA-NJ-DE-MD MSA',\n",
       "       'Chicago-Naperville-Elgin, IL-IN-WI MSA',\n",
       "       'New York-Newark-Jersey City, NY-NJ-PA MSA',\n",
       "       'Birmingham-Hoover, AL MSA', 'Oklahoma City, OK MSA',\n",
       "       'Denver-Aurora-Lakewood, CO MSA',\n",
       "       'Seattle-Tacoma-Bellevue, WA MSA',\n",
       "       'Nashville-Davidson–Murfreesboro–Franklin, TN MSA',\n",
       "       'Columbus, OH MSA', 'Las Vegas-Henderson-Paradise, NV MSA',\n",
       "       'Indianapolis-Carmel-Anderson, IN MSA',\n",
       "       'Miami-Fort Lauderdale-West Palm Beach, FL MSA',\n",
       "       'Columbia, SC MSA', 'San Antonio-New Braunfels, TX MSA',\n",
       "       'Charlotte-Concord-Gastonia, NC-SC MSA',\n",
       "       'Phoenix-Mesa-Chandler, AZ MSA',\n",
       "       'Riverside-San Bernardino-Ontario, CA MSA',\n",
       "       'Grand Rapids-Kentwood, MI MSA', 'New Haven-Milford, CT MSA',\n",
       "       'Cincinnati, OH-KY-IN MSA',\n",
       "       'Virginia Beach-Norfolk-Newport News, VA-NC MSA',\n",
       "       'Los Angeles-Long Beach-Anaheim, CA MSA',\n",
       "       'Sacramento–Roseville–Folsom, CA MSA',\n",
       "       'Louisville/Jefferson County, KY-IN MSA', 'Richmond, VA MSA',\n",
       "       'St. Louis, MO-IL MSA',\n",
       "       'Minneapolis-St. Paul-Bloomington, MN-WI MSA',\n",
       "       'San Diego-Chula Vista-Carlsbad, CA MSA',\n",
       "       'Austin-Round Rock-Georgetown, TX MSA',\n",
       "       'San Jose-Sunnyvale-Santa Clara, CA MSA',\n",
       "       'Tampa-St. Petersburg-Clearwater, FL MSA', 'Baton Rouge, LA MSA',\n",
       "       'Charleston-North Charleston, SC MSA',\n",
       "       'Detroit-Warren-Dearborn, MI MSA', 'Memphis, TN-MS-AR MSA',\n",
       "       'Tucson, AZ MSA', 'Pittsburgh, PA MSA',\n",
       "       'Washington-Arlington-Alexandria, DC-VA-MD-WV MSA',\n",
       "       'Salt Lake City, UT MSA', 'Dallas-Fort Worth-Arlington, TX MSA',\n",
       "       'Bakersfield, CA MSA', 'Fresno, CA MSA',\n",
       "       'Portland-Vancouver-Hillsboro, OR-WA MSA',\n",
       "       'Cape Coral-Fort Myers, FL MSA',\n",
       "       'Boston-Cambridge-Newton, MA-NH MSA', 'Tulsa, OK MSA',\n",
       "       'Jacksonville, FL MSA', 'Omaha-Council Bluffs, NE-IA MSA',\n",
       "       'Albuquerque, NM MSA', 'Buffalo-Cheektowaga, NY MSA',\n",
       "       'Albany-Schenectady-Troy, NY MSA', 'Providence-Warwick, RI-MA MSA',\n",
       "       'Urban Honolulu, HI MSA', 'El Paso, TX MSA',\n",
       "       'North Port-Sarasota-Bradenton, FL MSA',\n",
       "       'New Orleans-Metairie, LA MSA',\n",
       "       'Bridgeport-Stamford-Norwalk, CT MSA',\n",
       "       'Baltimore-Columbia-Towson, MD MSA', 'Milwaukee-Waukesha, WI MSA',\n",
       "       'Oxnard-Thousand Oaks-Ventura, CA MSA', 'Dayton-Kettering, OH MSA',\n",
       "       'Kansas City, MO-KS MSA', 'Rochester, NY MSA',\n",
       "       'Raleigh-Cary, NC MSA', 'Greensboro-High Point, NC MSA',\n",
       "       'Colorado Springs, CO MSA', 'Stockton, CA MSA'], dtype=object)"
      ]
     },
     "execution_count": 59,
     "metadata": {},
     "output_type": "execute_result"
    }
   ],
   "source": [
    "# Encontramos el valor textual para la región NY-NJ\n",
    "master_df['city'].unique()"
   ]
  },
  {
   "cell_type": "code",
   "execution_count": 60,
   "metadata": {},
   "outputs": [
    {
     "data": {
      "image/png": "[encoded data removed]",
      "text/plain": [
       "<Figure size 640x480 with 1 Axes>"
      ]
     },
     "metadata": {},
     "output_type": "display_data"
    }
   ],
   "source": [
    "master_df.query(\"city!='New York-Newark-Jersey City, NY-NJ-PA MSA'\")['total_charge'].hist(bins=40, alpha=0.8, legend=True)#, density=True)\n",
    "master_df.query(\"city=='New York-Newark-Jersey City, NY-NJ-PA MSA'\")['total_charge'].hist(bins=20, legend=True)#, density=True)\n",
    "\n",
    "#*plt.xscale('log') \n",
    "plt.legend(['not NY-NJ', 'NY-NJ'])\n",
    "plt.title('Monthly charge per user by plan')\n",
    "plt.xlabel('User monthly charge (USD)')\n",
    "plt.ylabel('Frequency')\n",
    "#plt.ylim(0,0.02)\n",
    "plt.show()"
   ]
  },
  {
   "cell_type": "code",
   "execution_count": 64,
   "metadata": {
    "id": "Cqcj7wrZ0q1S"
   },
   "outputs": [
    {
     "name": "stdout",
     "output_type": "stream",
     "text": [
      "Rechazamos la hipótesis nula, con un valor p: 0.04355743162134274\n"
     ]
    }
   ],
   "source": [
    "# Prueba las hipótesis\n",
    "array1 = master_df.query(\"city=='New York-Newark-Jersey City, NY-NJ-PA MSA'\")['total_charge']\n",
    "array2 = master_df.query(\"city!='New York-Newark-Jersey City, NY-NJ-PA MSA'\")['total_charge']\n",
    "alpha = 0.05\n",
    "\n",
    "_, p = st.ttest_ind(array1, array2, equal_var=True)\n",
    "\n",
    "if p > alpha:\n",
    "    print(\"No rechazamos la hipotesis nula\")\n",
    "else:\n",
    "    print(\"Rechazamos la hipótesis nula, con un valor p:\", p)\n"
   ]
  },
  {
   "cell_type": "markdown",
   "metadata": {
    "id": "bbTR8UQO0q1T"
   },
   "source": [
    "# Conclusión general\n"
   ]
  },
  {
   "cell_type": "markdown",
   "metadata": {},
   "source": [
    "\n",
    "Se integraron y limpiaron las tablas `users`, `calls`, `messages`, `internet` y `plans` -correspondietes a la base de datos de las dos tarifas de prepago, Ultimate y Surf, de la empresa Megaline- en un único `master_df. Allí se concentró tanto el consumo mensual de cada usuario como el cálculo de su cargo monetario total (en USD). Durante este proceso se aplicaron las reglas de redondeo de Megaline: llamadas redondeadas al minuto individual y tráfico web redondeado al total mensual en gigabytes.\n",
    "\n",
    "El análisis combinó estadística descriptiva (medias, desviaciones estándar, outliers), visualizaciones (boxplots, histogramas y gráficos de barras), con el objetivo de comparar el comportamiento de los usuarios de Ultimate y Surf en llamadas, mensajes y datos móviles.\n",
    "Además, se elaboró una prueba t de Welch de dos colas para comparar ingresos medios entre planes, y una prueba t de dos colas estándar al estudiar diferencias entre regiones (NY–NJ vs el resto). Estas decisiones metodológicas respondieron a la presencia de varianzas desiguales y a la necesidad de confirmar diferencias en los ingresos.\n",
    "\n",
    "Principales hallazgos:\n",
    "1. **Llamadas:** consumo promedio similar (~430 min), pero Ultimate genera pocos cargos adicionales mientras que Surf aporta ingresos extra más frecuentes, incluidos outliers notables.  \n",
    "2. **Mensajes SMS:** uso bajo en ambos planes (Surf ≈31, Ultimate ≈38), con poca relevancia para los ingresos más allá de las tarifas base.  \n",
    "3. **Datos móviles:** variable decisiva; consumo medio ~17 GB en ambos planes. Con Ultimate rara vez alcanza los 30 GB incluidos, mientras que en Surf muchos usuarios superan los 15 GB base, generando cargos adicionales a un precio mayor (10 USD/GB). Los outliers de Surf aportan ingresos extraordinarios.  \n",
    "4. **Ingresos:**  \n",
    "   - Ultimate: estable (~70 USD) y predecible, pero casi sin cargos adicionales.  \n",
    "   - Surf: menor promedio (~60 USD), mayor dispersión (σ≈55) y base de clientes más amplia, lo que en conjunto lo vuelve más rentable.  \n",
    "   - En ambos contrastes estadísticos (planes y regiones) se rechazó la hipótesis nula, confirmando diferencias significativas en los ingresos.\n",
    "\n",
    "En síntesis, **Ultimate asegura estabilidad, pero Surf concentra el potencial de rentabilidad gracias a su mayor base de usuarios, los precios más altos por excedentes y la frecuencia con que estos ocurren**. Los datos móviles se confirman como la categoría clave en la generación de ingresos. Para una evaluación completa de rentabilidad sería necesario incorporar el análisis de costos de prestación del servicio, no solo de ingresos brutos.\n",
    "\n",
    "Mi recomendación inicial para el departamento comercial sería incrementar la publicidad para surf y mantener un presupuesto moderado para Ultimate, ya que Ultimate puede proveer un ingreso base pero Surf muestra una tendencia a incrementar los ingresos gracias a los cargos extra. "
   ]
  },
  {
   "cell_type": "code",
   "execution_count": null,
   "metadata": {},
   "outputs": [],
   "source": []
  }
 ],
 "metadata": {
  "ExecuteTimeLog": [
   {
    "duration": 828,
    "start_time": "2021-11-16T09:21:11.304Z"
   },
   {
    "duration": 893,
    "start_time": "2021-11-16T09:21:17.728Z"
   },
   {
    "duration": 1150,
    "start_time": "2021-11-16T09:21:29.568Z"
   },
   {
    "duration": 3,
    "start_time": "2021-11-16T09:24:14.495Z"
   },
   {
    "duration": 120,
    "start_time": "2021-11-16T09:24:46.630Z"
   },
   {
    "duration": 3,
    "start_time": "2021-11-16T09:28:27.882Z"
   },
   {
    "duration": 4,
    "start_time": "2021-11-16T09:29:54.281Z"
   },
   {
    "duration": 3,
    "start_time": "2021-11-16T09:30:45.936Z"
   },
   {
    "duration": 4,
    "start_time": "2021-11-16T09:31:06.300Z"
   },
   {
    "duration": 113,
    "start_time": "2021-11-16T09:31:37.208Z"
   },
   {
    "duration": 143,
    "start_time": "2021-11-16T09:31:48.656Z"
   },
   {
    "duration": 98,
    "start_time": "2021-11-16T09:31:55.678Z"
   },
   {
    "duration": 3,
    "start_time": "2021-11-16T09:32:08.535Z"
   },
   {
    "duration": 111,
    "start_time": "2021-11-16T09:32:10.120Z"
   },
   {
    "duration": 3,
    "start_time": "2021-11-16T09:32:15.732Z"
   },
   {
    "duration": 4,
    "start_time": "2021-11-16T09:32:29.423Z"
   },
   {
    "duration": 3,
    "start_time": "2021-11-16T10:03:03.074Z"
   },
   {
    "duration": 3,
    "start_time": "2021-11-16T10:10:01.288Z"
   },
   {
    "duration": 3,
    "start_time": "2021-11-16T10:10:46.923Z"
   },
   {
    "duration": 121,
    "start_time": "2021-11-16T10:37:46.494Z"
   },
   {
    "duration": 125,
    "start_time": "2021-11-16T10:38:20.632Z"
   },
   {
    "duration": 112,
    "start_time": "2021-11-16T10:46:53.001Z"
   },
   {
    "duration": 110,
    "start_time": "2021-11-16T10:48:25.775Z"
   },
   {
    "duration": 3,
    "start_time": "2021-11-16T10:50:18.720Z"
   },
   {
    "duration": 4,
    "start_time": "2021-11-16T10:50:37.649Z"
   },
   {
    "duration": 2,
    "start_time": "2021-11-16T10:50:51.884Z"
   },
   {
    "duration": 3,
    "start_time": "2021-11-16T10:51:56.237Z"
   },
   {
    "duration": 101,
    "start_time": "2021-11-16T10:53:13.791Z"
   },
   {
    "duration": 3,
    "start_time": "2021-11-16T10:55:59.186Z"
   },
   {
    "duration": 3,
    "start_time": "2021-11-16T10:56:10.751Z"
   },
   {
    "duration": 3,
    "start_time": "2021-11-16T10:56:49.038Z"
   },
   {
    "duration": 3,
    "start_time": "2021-11-16T10:56:49.174Z"
   },
   {
    "duration": 4,
    "start_time": "2021-11-16T10:56:49.414Z"
   },
   {
    "duration": 3,
    "start_time": "2021-11-16T10:56:49.680Z"
   },
   {
    "duration": 3,
    "start_time": "2021-11-16T10:56:50.370Z"
   },
   {
    "duration": 114,
    "start_time": "2021-11-16T10:59:34.518Z"
   },
   {
    "duration": 3,
    "start_time": "2021-11-16T11:01:41.201Z"
   },
   {
    "duration": 116,
    "start_time": "2021-11-16T11:01:48.754Z"
   },
   {
    "duration": 3,
    "start_time": "2021-11-16T11:02:16.685Z"
   },
   {
    "duration": 3,
    "start_time": "2021-11-16T11:02:19.479Z"
   },
   {
    "duration": 3,
    "start_time": "2021-11-16T11:02:47.067Z"
   },
   {
    "duration": 3,
    "start_time": "2021-11-16T11:02:49.353Z"
   },
   {
    "duration": 3,
    "start_time": "2021-11-16T11:03:07.835Z"
   },
   {
    "duration": 3,
    "start_time": "2021-11-16T11:03:07.953Z"
   },
   {
    "duration": 112,
    "start_time": "2021-11-16T11:07:52.072Z"
   },
   {
    "duration": 187,
    "start_time": "2021-11-16T11:09:23.468Z"
   },
   {
    "duration": 4,
    "start_time": "2021-11-16T11:10:01.455Z"
   },
   {
    "duration": 3,
    "start_time": "2021-11-16T11:10:05.069Z"
   },
   {
    "duration": 4,
    "start_time": "2021-11-16T11:10:13.376Z"
   },
   {
    "duration": 3,
    "start_time": "2021-11-16T11:10:14.434Z"
   },
   {
    "duration": 3,
    "start_time": "2021-11-16T11:10:22.853Z"
   },
   {
    "duration": 4,
    "start_time": "2021-11-16T11:27:29.279Z"
   },
   {
    "duration": 4,
    "start_time": "2021-11-16T11:29:08.919Z"
   },
   {
    "duration": 118,
    "start_time": "2021-11-16T11:29:46.703Z"
   },
   {
    "duration": 437,
    "start_time": "2021-11-16T11:36:02.181Z"
   },
   {
    "duration": 157,
    "start_time": "2021-11-16T11:36:14.388Z"
   },
   {
    "duration": 207,
    "start_time": "2021-11-16T11:47:15.898Z"
   },
   {
    "duration": 3,
    "start_time": "2021-11-16T11:53:52.092Z"
   },
   {
    "duration": 3,
    "start_time": "2021-11-16T11:53:52.236Z"
   },
   {
    "duration": 3,
    "start_time": "2021-11-16T11:59:12.005Z"
   },
   {
    "duration": 112,
    "start_time": "2021-11-16T12:00:33.446Z"
   },
   {
    "duration": 3,
    "start_time": "2021-11-16T12:02:14.453Z"
   },
   {
    "duration": 3,
    "start_time": "2021-11-16T12:02:39.512Z"
   },
   {
    "duration": 106,
    "start_time": "2021-11-16T12:03:03.460Z"
   },
   {
    "duration": 3,
    "start_time": "2021-11-17T20:37:21.139Z"
   },
   {
    "duration": 3,
    "start_time": "2021-11-17T20:37:22.229Z"
   },
   {
    "duration": 3,
    "start_time": "2021-11-17T20:38:38.806Z"
   },
   {
    "duration": 3,
    "start_time": "2021-11-17T20:38:41.958Z"
   },
   {
    "duration": 3,
    "start_time": "2021-11-17T20:43:46.551Z"
   },
   {
    "duration": 4,
    "start_time": "2021-11-17T20:58:21.835Z"
   },
   {
    "duration": 3,
    "start_time": "2021-11-17T20:59:21.872Z"
   },
   {
    "duration": 4,
    "start_time": "2021-11-17T20:59:45.352Z"
   },
   {
    "duration": 4,
    "start_time": "2021-11-17T20:59:49.646Z"
   },
   {
    "duration": 159,
    "start_time": "2021-11-17T21:02:26.949Z"
   },
   {
    "duration": 3,
    "start_time": "2021-11-17T21:03:53.461Z"
   },
   {
    "duration": 3,
    "start_time": "2021-11-17T21:03:53.694Z"
   },
   {
    "duration": 3,
    "start_time": "2021-11-17T21:05:28.145Z"
   },
   {
    "duration": 116,
    "start_time": "2021-11-17T21:05:57.787Z"
   },
   {
    "duration": 3,
    "start_time": "2021-11-17T21:06:37.993Z"
   },
   {
    "duration": 3,
    "start_time": "2021-11-17T21:06:38.261Z"
   },
   {
    "duration": 3,
    "start_time": "2021-11-17T21:11:54.358Z"
   },
   {
    "duration": 3,
    "start_time": "2021-11-17T21:12:43.846Z"
   },
   {
    "duration": 4,
    "start_time": "2021-11-17T21:13:08.773Z"
   },
   {
    "duration": 3,
    "start_time": "2021-11-17T21:14:44.441Z"
   },
   {
    "duration": 3,
    "start_time": "2021-11-17T21:15:42.059Z"
   },
   {
    "duration": 4,
    "start_time": "2021-11-17T21:15:51.995Z"
   },
   {
    "duration": 3,
    "start_time": "2021-11-17T21:15:53.923Z"
   },
   {
    "duration": 3,
    "start_time": "2021-11-17T21:15:55.282Z"
   },
   {
    "duration": 3,
    "start_time": "2021-11-17T21:16:28.492Z"
   },
   {
    "duration": 3,
    "start_time": "2021-11-17T21:16:32.603Z"
   },
   {
    "duration": 3,
    "start_time": "2021-11-17T21:17:06.941Z"
   },
   {
    "duration": 98,
    "start_time": "2021-11-17T21:18:05.733Z"
   },
   {
    "duration": 4,
    "start_time": "2021-11-17T21:21:35.255Z"
   },
   {
    "duration": 3,
    "start_time": "2021-11-17T21:21:37.804Z"
   },
   {
    "duration": 4,
    "start_time": "2021-11-17T21:23:06.071Z"
   },
   {
    "duration": 3,
    "start_time": "2021-11-17T21:23:24.799Z"
   },
   {
    "duration": 3,
    "start_time": "2021-11-17T21:23:32.591Z"
   },
   {
    "duration": 98,
    "start_time": "2021-11-17T21:28:31.559Z"
   },
   {
    "duration": 3,
    "start_time": "2021-11-17T21:28:45.448Z"
   },
   {
    "duration": 3,
    "start_time": "2021-11-17T21:29:17.303Z"
   },
   {
    "duration": 3,
    "start_time": "2021-11-17T21:29:29.617Z"
   },
   {
    "duration": 3,
    "start_time": "2021-11-17T21:29:32.681Z"
   },
   {
    "duration": 3,
    "start_time": "2021-11-17T21:36:11.474Z"
   },
   {
    "duration": 3,
    "start_time": "2021-11-17T21:36:14.791Z"
   },
   {
    "duration": 3,
    "start_time": "2021-11-17T21:36:53.943Z"
   },
   {
    "duration": 3,
    "start_time": "2021-11-17T21:36:56.165Z"
   },
   {
    "duration": 4,
    "start_time": "2021-11-17T21:37:16.590Z"
   },
   {
    "duration": 3,
    "start_time": "2021-11-17T21:37:22.702Z"
   },
   {
    "duration": 4,
    "start_time": "2021-11-17T21:38:03.479Z"
   },
   {
    "duration": 3,
    "start_time": "2021-11-17T21:38:08.601Z"
   },
   {
    "duration": 3,
    "start_time": "2021-11-17T21:38:12.928Z"
   },
   {
    "duration": 3,
    "start_time": "2021-11-17T21:38:48.896Z"
   },
   {
    "duration": 2,
    "start_time": "2021-11-17T21:38:49.171Z"
   },
   {
    "duration": 4,
    "start_time": "2021-11-17T21:39:57.889Z"
   },
   {
    "duration": 3,
    "start_time": "2021-11-17T21:39:58.057Z"
   },
   {
    "duration": 3,
    "start_time": "2021-11-17T21:41:20.108Z"
   },
   {
    "duration": 3,
    "start_time": "2021-11-17T21:41:20.629Z"
   },
   {
    "duration": 3,
    "start_time": "2021-11-17T21:42:49.136Z"
   },
   {
    "duration": 3,
    "start_time": "2021-11-17T21:43:15.137Z"
   },
   {
    "duration": 4,
    "start_time": "2021-11-17T21:43:16.766Z"
   },
   {
    "duration": 4,
    "start_time": "2021-11-17T21:43:31.711Z"
   },
   {
    "duration": 3,
    "start_time": "2021-11-17T21:43:36.312Z"
   },
   {
    "duration": 4,
    "start_time": "2021-11-17T21:45:08.825Z"
   },
   {
    "duration": 4,
    "start_time": "2021-11-17T21:45:10.119Z"
   },
   {
    "duration": 4,
    "start_time": "2021-11-17T21:45:13.748Z"
   },
   {
    "duration": 3,
    "start_time": "2021-11-17T21:45:22.219Z"
   },
   {
    "duration": 3,
    "start_time": "2021-11-17T21:45:33.412Z"
   },
   {
    "duration": 2,
    "start_time": "2021-11-17T21:46:01.885Z"
   },
   {
    "duration": 3,
    "start_time": "2021-11-17T21:46:03.628Z"
   },
   {
    "duration": 107,
    "start_time": "2021-11-17T21:47:32.512Z"
   },
   {
    "duration": 103,
    "start_time": "2021-11-17T21:50:36.243Z"
   },
   {
    "duration": 3,
    "start_time": "2021-11-18T06:28:31.440Z"
   },
   {
    "duration": 3,
    "start_time": "2021-11-18T06:29:00.168Z"
   },
   {
    "duration": 3,
    "start_time": "2021-11-18T06:31:27.008Z"
   },
   {
    "duration": 2,
    "start_time": "2021-11-18T06:35:34.288Z"
   },
   {
    "duration": 2,
    "start_time": "2021-11-18T06:38:04.527Z"
   }
  ],
  "colab": {
   "provenance": []
  },
  "kernelspec": {
   "display_name": "Python 3.9.6 64-bit",
   "language": "python",
   "name": "python3"
  },
  "language_info": {
   "codemirror_mode": {
    "name": "ipython",
    "version": 3
   },
   "file_extension": ".py",
   "mimetype": "text/x-python",
   "name": "python",
   "nbconvert_exporter": "python",
   "pygments_lexer": "ipython3",
   "version": "3.9.6"
  },
  "toc": {
   "base_numbering": 1,
   "nav_menu": {},
   "number_sections": true,
   "sideBar": true,
   "skip_h1_title": false,
   "title_cell": "Table of Contents",
   "title_sidebar": "Contents",
   "toc_cell": false,
   "toc_position": {},
   "toc_section_display": true,
   "toc_window_display": true
  },
  "vscode": {
   "interpreter": {
    "hash": "31f2aee4e71d21fbe5cf8b01ff0e069b9275f58929596ceb00d14d90e3e16cd6"
   }
  }
 },
 "nbformat": 4,
 "nbformat_minor": 4
}
